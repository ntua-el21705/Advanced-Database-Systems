{
 "cells": [
  {
   "cell_type": "markdown",
   "id": "00e69dd4-9ff0-41ab-943e-2b8dc3c83067",
   "metadata": {},
   "source": [
    "#### SPARK CONFIGURATION"
   ]
  },
  {
   "cell_type": "code",
   "execution_count": 1,
   "id": "6e76fabc-ee6f-44a0-9a21-4d2892168d52",
   "metadata": {
    "tags": []
   },
   "outputs": [
    {
     "data": {
      "text/html": [
       "Current session configs: <tt>{'conf': {'spark.sql.catalog.spark_catalog.type': 'hive', 'spark.executor.instances': '4', 'spark.executor.memory': '1g', 'spark.executor.cores': '1', 'spark.driver.memory': '2g'}, 'kind': 'pyspark'}</tt><br>"
      ],
      "text/plain": [
       "<IPython.core.display.HTML object>"
      ]
     },
     "metadata": {},
     "output_type": "display_data"
    },
    {
     "data": {
      "text/html": [
       "<table>\n",
       "<tr><th>ID</th><th>YARN Application ID</th><th>Kind</th><th>State</th><th>Spark UI</th><th>Driver log</th><th>User</th><th>Current session?</th></tr><tr><td>3283</td><td>application_1732639283265_3239</td><td>pyspark</td><td>idle</td><td><a target=\"_blank\" href=\"http://ip-192-168-1-36.eu-central-1.compute.internal:20888/proxy/application_1732639283265_3239/\">Link</a></td><td><a target=\"_blank\" href=\"http://ip-192-168-1-181.eu-central-1.compute.internal:8042/node/containerlogs/container_1732639283265_3239_01_000001/livy\">Link</a></td><td>None</td><td></td></tr><tr><td>3307</td><td>application_1732639283265_3263</td><td>pyspark</td><td>idle</td><td><a target=\"_blank\" href=\"http://ip-192-168-1-36.eu-central-1.compute.internal:20888/proxy/application_1732639283265_3263/\">Link</a></td><td><a target=\"_blank\" href=\"http://ip-192-168-1-193.eu-central-1.compute.internal:8042/node/containerlogs/container_1732639283265_3263_01_000001/livy\">Link</a></td><td>None</td><td></td></tr><tr><td>3399</td><td>application_1732639283265_3355</td><td>pyspark</td><td>idle</td><td><a target=\"_blank\" href=\"http://ip-192-168-1-36.eu-central-1.compute.internal:20888/proxy/application_1732639283265_3355/\">Link</a></td><td><a target=\"_blank\" href=\"http://ip-192-168-1-117.eu-central-1.compute.internal:8042/node/containerlogs/container_1732639283265_3355_01_000001/livy\">Link</a></td><td>None</td><td></td></tr><tr><td>3417</td><td>application_1732639283265_3373</td><td>pyspark</td><td>idle</td><td><a target=\"_blank\" href=\"http://ip-192-168-1-36.eu-central-1.compute.internal:20888/proxy/application_1732639283265_3373/\">Link</a></td><td><a target=\"_blank\" href=\"http://ip-192-168-1-117.eu-central-1.compute.internal:8042/node/containerlogs/container_1732639283265_3373_01_000002/livy\">Link</a></td><td>None</td><td></td></tr><tr><td>3419</td><td>application_1732639283265_3375</td><td>pyspark</td><td>idle</td><td><a target=\"_blank\" href=\"http://ip-192-168-1-36.eu-central-1.compute.internal:20888/proxy/application_1732639283265_3375/\">Link</a></td><td><a target=\"_blank\" href=\"http://ip-192-168-1-119.eu-central-1.compute.internal:8042/node/containerlogs/container_1732639283265_3375_01_000001/livy\">Link</a></td><td>None</td><td></td></tr><tr><td>3420</td><td>application_1732639283265_3376</td><td>pyspark</td><td>idle</td><td><a target=\"_blank\" href=\"http://ip-192-168-1-36.eu-central-1.compute.internal:20888/proxy/application_1732639283265_3376/\">Link</a></td><td><a target=\"_blank\" href=\"http://ip-192-168-1-233.eu-central-1.compute.internal:8042/node/containerlogs/container_1732639283265_3376_01_000001/livy\">Link</a></td><td>None</td><td></td></tr><tr><td>3421</td><td>application_1732639283265_3377</td><td>pyspark</td><td>idle</td><td><a target=\"_blank\" href=\"http://ip-192-168-1-36.eu-central-1.compute.internal:20888/proxy/application_1732639283265_3377/\">Link</a></td><td><a target=\"_blank\" href=\"http://ip-192-168-1-117.eu-central-1.compute.internal:8042/node/containerlogs/container_1732639283265_3377_01_000002/livy\">Link</a></td><td>None</td><td></td></tr><tr><td>3423</td><td>application_1732639283265_3379</td><td>pyspark</td><td>idle</td><td><a target=\"_blank\" href=\"http://ip-192-168-1-36.eu-central-1.compute.internal:20888/proxy/application_1732639283265_3379/\">Link</a></td><td><a target=\"_blank\" href=\"http://ip-192-168-1-227.eu-central-1.compute.internal:8042/node/containerlogs/container_1732639283265_3379_01_000001/livy\">Link</a></td><td>None</td><td></td></tr><tr><td>3426</td><td>application_1732639283265_3382</td><td>pyspark</td><td>idle</td><td><a target=\"_blank\" href=\"http://ip-192-168-1-36.eu-central-1.compute.internal:20888/proxy/application_1732639283265_3382/\">Link</a></td><td><a target=\"_blank\" href=\"http://ip-192-168-1-174.eu-central-1.compute.internal:8042/node/containerlogs/container_1732639283265_3382_01_000001/livy\">Link</a></td><td>None</td><td></td></tr><tr><td>3429</td><td>application_1732639283265_3385</td><td>pyspark</td><td>idle</td><td><a target=\"_blank\" href=\"http://ip-192-168-1-36.eu-central-1.compute.internal:20888/proxy/application_1732639283265_3385/\">Link</a></td><td><a target=\"_blank\" href=\"http://ip-192-168-1-119.eu-central-1.compute.internal:8042/node/containerlogs/container_1732639283265_3385_01_000001/livy\">Link</a></td><td>None</td><td></td></tr><tr><td>3436</td><td>application_1732639283265_3392</td><td>pyspark</td><td>idle</td><td><a target=\"_blank\" href=\"http://ip-192-168-1-36.eu-central-1.compute.internal:20888/proxy/application_1732639283265_3392/\">Link</a></td><td><a target=\"_blank\" href=\"http://ip-192-168-1-91.eu-central-1.compute.internal:8042/node/containerlogs/container_1732639283265_3392_01_000001/livy\">Link</a></td><td>None</td><td></td></tr><tr><td>3440</td><td>application_1732639283265_3396</td><td>pyspark</td><td>idle</td><td><a target=\"_blank\" href=\"http://ip-192-168-1-36.eu-central-1.compute.internal:20888/proxy/application_1732639283265_3396/\">Link</a></td><td><a target=\"_blank\" href=\"http://ip-192-168-1-247.eu-central-1.compute.internal:8042/node/containerlogs/container_1732639283265_3396_01_000002/livy\">Link</a></td><td>None</td><td></td></tr><tr><td>3442</td><td>application_1732639283265_3398</td><td>pyspark</td><td>idle</td><td><a target=\"_blank\" href=\"http://ip-192-168-1-36.eu-central-1.compute.internal:20888/proxy/application_1732639283265_3398/\">Link</a></td><td><a target=\"_blank\" href=\"http://ip-192-168-1-227.eu-central-1.compute.internal:8042/node/containerlogs/container_1732639283265_3398_01_000002/livy\">Link</a></td><td>None</td><td></td></tr><tr><td>3450</td><td>application_1732639283265_3406</td><td>pyspark</td><td>idle</td><td><a target=\"_blank\" href=\"http://ip-192-168-1-36.eu-central-1.compute.internal:20888/proxy/application_1732639283265_3406/\">Link</a></td><td><a target=\"_blank\" href=\"http://ip-192-168-1-247.eu-central-1.compute.internal:8042/node/containerlogs/container_1732639283265_3406_01_000001/livy\">Link</a></td><td>None</td><td></td></tr><tr><td>3452</td><td>application_1732639283265_3408</td><td>pyspark</td><td>idle</td><td><a target=\"_blank\" href=\"http://ip-192-168-1-36.eu-central-1.compute.internal:20888/proxy/application_1732639283265_3408/\">Link</a></td><td><a target=\"_blank\" href=\"http://ip-192-168-1-119.eu-central-1.compute.internal:8042/node/containerlogs/container_1732639283265_3408_01_000001/livy\">Link</a></td><td>None</td><td></td></tr><tr><td>3453</td><td>application_1732639283265_3409</td><td>pyspark</td><td>idle</td><td><a target=\"_blank\" href=\"http://ip-192-168-1-36.eu-central-1.compute.internal:20888/proxy/application_1732639283265_3409/\">Link</a></td><td><a target=\"_blank\" href=\"http://ip-192-168-1-203.eu-central-1.compute.internal:8042/node/containerlogs/container_1732639283265_3409_01_000001/livy\">Link</a></td><td>None</td><td></td></tr><tr><td>3454</td><td>application_1732639283265_3410</td><td>pyspark</td><td>idle</td><td><a target=\"_blank\" href=\"http://ip-192-168-1-36.eu-central-1.compute.internal:20888/proxy/application_1732639283265_3410/\">Link</a></td><td><a target=\"_blank\" href=\"http://ip-192-168-1-117.eu-central-1.compute.internal:8042/node/containerlogs/container_1732639283265_3410_01_000001/livy\">Link</a></td><td>None</td><td></td></tr><tr><td>3461</td><td>application_1732639283265_3417</td><td>pyspark</td><td>idle</td><td><a target=\"_blank\" href=\"http://ip-192-168-1-36.eu-central-1.compute.internal:20888/proxy/application_1732639283265_3417/\">Link</a></td><td><a target=\"_blank\" href=\"http://ip-192-168-1-94.eu-central-1.compute.internal:8042/node/containerlogs/container_1732639283265_3417_01_000001/livy\">Link</a></td><td>None</td><td></td></tr><tr><td>3462</td><td>application_1732639283265_3418</td><td>pyspark</td><td>idle</td><td><a target=\"_blank\" href=\"http://ip-192-168-1-36.eu-central-1.compute.internal:20888/proxy/application_1732639283265_3418/\">Link</a></td><td><a target=\"_blank\" href=\"http://ip-192-168-1-119.eu-central-1.compute.internal:8042/node/containerlogs/container_1732639283265_3418_01_000001/livy\">Link</a></td><td>None</td><td></td></tr><tr><td>3464</td><td>application_1732639283265_3420</td><td>pyspark</td><td>idle</td><td><a target=\"_blank\" href=\"http://ip-192-168-1-36.eu-central-1.compute.internal:20888/proxy/application_1732639283265_3420/\">Link</a></td><td><a target=\"_blank\" href=\"http://ip-192-168-1-193.eu-central-1.compute.internal:8042/node/containerlogs/container_1732639283265_3420_01_000001/livy\">Link</a></td><td>None</td><td></td></tr><tr><td>3465</td><td>application_1732639283265_3421</td><td>pyspark</td><td>idle</td><td><a target=\"_blank\" href=\"http://ip-192-168-1-36.eu-central-1.compute.internal:20888/proxy/application_1732639283265_3421/\">Link</a></td><td><a target=\"_blank\" href=\"http://ip-192-168-1-181.eu-central-1.compute.internal:8042/node/containerlogs/container_1732639283265_3421_01_000001/livy\">Link</a></td><td>None</td><td></td></tr><tr><td>3466</td><td>application_1732639283265_3422</td><td>pyspark</td><td>idle</td><td><a target=\"_blank\" href=\"http://ip-192-168-1-36.eu-central-1.compute.internal:20888/proxy/application_1732639283265_3422/\">Link</a></td><td><a target=\"_blank\" href=\"http://ip-192-168-1-16.eu-central-1.compute.internal:8042/node/containerlogs/container_1732639283265_3422_01_000002/livy\">Link</a></td><td>None</td><td></td></tr><tr><td>3469</td><td>application_1732639283265_3425</td><td>pyspark</td><td>idle</td><td><a target=\"_blank\" href=\"http://ip-192-168-1-36.eu-central-1.compute.internal:20888/proxy/application_1732639283265_3425/\">Link</a></td><td><a target=\"_blank\" href=\"http://ip-192-168-1-94.eu-central-1.compute.internal:8042/node/containerlogs/container_1732639283265_3425_01_000001/livy\">Link</a></td><td>None</td><td></td></tr><tr><td>3470</td><td>application_1732639283265_3426</td><td>pyspark</td><td>idle</td><td><a target=\"_blank\" href=\"http://ip-192-168-1-36.eu-central-1.compute.internal:20888/proxy/application_1732639283265_3426/\">Link</a></td><td><a target=\"_blank\" href=\"http://ip-192-168-1-94.eu-central-1.compute.internal:8042/node/containerlogs/container_1732639283265_3426_01_000001/livy\">Link</a></td><td>None</td><td></td></tr><tr><td>3474</td><td>application_1732639283265_3430</td><td>pyspark</td><td>idle</td><td><a target=\"_blank\" href=\"http://ip-192-168-1-36.eu-central-1.compute.internal:20888/proxy/application_1732639283265_3430/\">Link</a></td><td><a target=\"_blank\" href=\"http://ip-192-168-1-119.eu-central-1.compute.internal:8042/node/containerlogs/container_1732639283265_3430_01_000001/livy\">Link</a></td><td>None</td><td></td></tr><tr><td>3476</td><td>application_1732639283265_3432</td><td>pyspark</td><td>idle</td><td><a target=\"_blank\" href=\"http://ip-192-168-1-36.eu-central-1.compute.internal:20888/proxy/application_1732639283265_3432/\">Link</a></td><td><a target=\"_blank\" href=\"http://ip-192-168-1-227.eu-central-1.compute.internal:8042/node/containerlogs/container_1732639283265_3432_01_000001/livy\">Link</a></td><td>None</td><td></td></tr><tr><td>3477</td><td>application_1732639283265_3433</td><td>pyspark</td><td>idle</td><td><a target=\"_blank\" href=\"http://ip-192-168-1-36.eu-central-1.compute.internal:20888/proxy/application_1732639283265_3433/\">Link</a></td><td><a target=\"_blank\" href=\"http://ip-192-168-1-112.eu-central-1.compute.internal:8042/node/containerlogs/container_1732639283265_3433_01_000001/livy\">Link</a></td><td>None</td><td></td></tr><tr><td>3478</td><td>application_1732639283265_3434</td><td>pyspark</td><td>idle</td><td><a target=\"_blank\" href=\"http://ip-192-168-1-36.eu-central-1.compute.internal:20888/proxy/application_1732639283265_3434/\">Link</a></td><td><a target=\"_blank\" href=\"http://ip-192-168-1-174.eu-central-1.compute.internal:8042/node/containerlogs/container_1732639283265_3434_01_000001/livy\">Link</a></td><td>None</td><td></td></tr><tr><td>3479</td><td>application_1732639283265_3435</td><td>pyspark</td><td>idle</td><td><a target=\"_blank\" href=\"http://ip-192-168-1-36.eu-central-1.compute.internal:20888/proxy/application_1732639283265_3435/\">Link</a></td><td><a target=\"_blank\" href=\"http://ip-192-168-1-117.eu-central-1.compute.internal:8042/node/containerlogs/container_1732639283265_3435_01_000001/livy\">Link</a></td><td>None</td><td></td></tr><tr><td>3487</td><td>application_1732639283265_3443</td><td>pyspark</td><td>idle</td><td><a target=\"_blank\" href=\"http://ip-192-168-1-36.eu-central-1.compute.internal:20888/proxy/application_1732639283265_3443/\">Link</a></td><td><a target=\"_blank\" href=\"http://ip-192-168-1-233.eu-central-1.compute.internal:8042/node/containerlogs/container_1732639283265_3443_01_000001/livy\">Link</a></td><td>None</td><td></td></tr><tr><td>3491</td><td>application_1732639283265_3447</td><td>pyspark</td><td>idle</td><td><a target=\"_blank\" href=\"http://ip-192-168-1-36.eu-central-1.compute.internal:20888/proxy/application_1732639283265_3447/\">Link</a></td><td><a target=\"_blank\" href=\"http://ip-192-168-1-174.eu-central-1.compute.internal:8042/node/containerlogs/container_1732639283265_3447_01_000002/livy\">Link</a></td><td>None</td><td></td></tr><tr><td>3492</td><td>application_1732639283265_3448</td><td>pyspark</td><td>idle</td><td><a target=\"_blank\" href=\"http://ip-192-168-1-36.eu-central-1.compute.internal:20888/proxy/application_1732639283265_3448/\">Link</a></td><td><a target=\"_blank\" href=\"http://ip-192-168-1-80.eu-central-1.compute.internal:8042/node/containerlogs/container_1732639283265_3448_01_000001/livy\">Link</a></td><td>None</td><td></td></tr><tr><td>3495</td><td>application_1732639283265_3451</td><td>pyspark</td><td>idle</td><td><a target=\"_blank\" href=\"http://ip-192-168-1-36.eu-central-1.compute.internal:20888/proxy/application_1732639283265_3451/\">Link</a></td><td><a target=\"_blank\" href=\"http://ip-192-168-1-166.eu-central-1.compute.internal:8042/node/containerlogs/container_1732639283265_3451_01_000001/livy\">Link</a></td><td>None</td><td></td></tr><tr><td>3496</td><td>application_1732639283265_3452</td><td>pyspark</td><td>idle</td><td><a target=\"_blank\" href=\"http://ip-192-168-1-36.eu-central-1.compute.internal:20888/proxy/application_1732639283265_3452/\">Link</a></td><td><a target=\"_blank\" href=\"http://ip-192-168-1-203.eu-central-1.compute.internal:8042/node/containerlogs/container_1732639283265_3452_01_000001/livy\">Link</a></td><td>None</td><td></td></tr><tr><td>3505</td><td>application_1732639283265_3461</td><td>pyspark</td><td>idle</td><td><a target=\"_blank\" href=\"http://ip-192-168-1-36.eu-central-1.compute.internal:20888/proxy/application_1732639283265_3461/\">Link</a></td><td><a target=\"_blank\" href=\"http://ip-192-168-1-247.eu-central-1.compute.internal:8042/node/containerlogs/container_1732639283265_3461_01_000001/livy\">Link</a></td><td>None</td><td></td></tr><tr><td>3506</td><td>application_1732639283265_3462</td><td>pyspark</td><td>idle</td><td><a target=\"_blank\" href=\"http://ip-192-168-1-36.eu-central-1.compute.internal:20888/proxy/application_1732639283265_3462/\">Link</a></td><td><a target=\"_blank\" href=\"http://ip-192-168-1-16.eu-central-1.compute.internal:8042/node/containerlogs/container_1732639283265_3462_01_000001/livy\">Link</a></td><td>None</td><td></td></tr><tr><td>3508</td><td>application_1732639283265_3464</td><td>pyspark</td><td>idle</td><td><a target=\"_blank\" href=\"http://ip-192-168-1-36.eu-central-1.compute.internal:20888/proxy/application_1732639283265_3464/\">Link</a></td><td><a target=\"_blank\" href=\"http://ip-192-168-1-247.eu-central-1.compute.internal:8042/node/containerlogs/container_1732639283265_3464_01_000002/livy\">Link</a></td><td>None</td><td></td></tr><tr><td>3511</td><td>application_1732639283265_3467</td><td>pyspark</td><td>idle</td><td><a target=\"_blank\" href=\"http://ip-192-168-1-36.eu-central-1.compute.internal:20888/proxy/application_1732639283265_3467/\">Link</a></td><td><a target=\"_blank\" href=\"http://ip-192-168-1-112.eu-central-1.compute.internal:8042/node/containerlogs/container_1732639283265_3467_01_000002/livy\">Link</a></td><td>None</td><td></td></tr></table>"
      ],
      "text/plain": [
       "<IPython.core.display.HTML object>"
      ]
     },
     "metadata": {},
     "output_type": "display_data"
    }
   ],
   "source": [
    "%%configure -f\n",
    "{\n",
    "    \"conf\": {\n",
    "        \"spark.executor.instances\": \"4\",\n",
    "        \"spark.executor.memory\": \"1g\",\n",
    "        \"spark.executor.cores\": \"1\",\n",
    "        \"spark.driver.memory\": \"2g\"\n",
    "    }\n",
    "}"
   ]
  },
  {
   "cell_type": "code",
   "execution_count": 2,
   "id": "2f4662ee-42cf-47be-90b2-4b8d3e8c3d80",
   "metadata": {
    "tags": []
   },
   "outputs": [
    {
     "name": "stdout",
     "output_type": "stream",
     "text": [
      "Starting Spark application\n"
     ]
    },
    {
     "data": {
      "text/html": [
       "<table>\n",
       "<tr><th>ID</th><th>YARN Application ID</th><th>Kind</th><th>State</th><th>Spark UI</th><th>Driver log</th><th>User</th><th>Current session?</th></tr><tr><td>3515</td><td>application_1732639283265_3471</td><td>pyspark</td><td>idle</td><td><a target=\"_blank\" href=\"http://ip-192-168-1-36.eu-central-1.compute.internal:20888/proxy/application_1732639283265_3471/\">Link</a></td><td><a target=\"_blank\" href=\"http://ip-192-168-1-174.eu-central-1.compute.internal:8042/node/containerlogs/container_1732639283265_3471_01_000001/livy\">Link</a></td><td>None</td><td>✔</td></tr></table>"
      ],
      "text/plain": [
       "<IPython.core.display.HTML object>"
      ]
     },
     "metadata": {},
     "output_type": "display_data"
    },
    {
     "data": {
      "application/vnd.jupyter.widget-view+json": {
       "model_id": "",
       "version_major": 2,
       "version_minor": 0
      },
      "text/plain": [
       "FloatProgress(value=0.0, bar_style='info', description='Progress:', layout=Layout(height='25px', width='50%'),…"
      ]
     },
     "metadata": {},
     "output_type": "display_data"
    },
    {
     "name": "stdout",
     "output_type": "stream",
     "text": [
      "SparkSession available as 'spark'.\n"
     ]
    },
    {
     "data": {
      "application/vnd.jupyter.widget-view+json": {
       "model_id": "",
       "version_major": 2,
       "version_minor": 0
      },
      "text/plain": [
       "FloatProgress(value=0.0, bar_style='info', description='Progress:', layout=Layout(height='25px', width='50%'),…"
      ]
     },
     "metadata": {},
     "output_type": "display_data"
    },
    {
     "name": "stdout",
     "output_type": "stream",
     "text": [
      "Executor Instances: 4\n",
      "Executor Memory: 1g\n",
      "Executor Cores: 1"
     ]
    }
   ],
   "source": [
    "# Access configuration\n",
    "conf = spark.sparkContext.getConf()\n",
    "\n",
    "# Print relevant executor settings\n",
    "print(\"Executor Instances:\", conf.get(\"spark.executor.instances\"))\n",
    "print(\"Executor Memory:\", conf.get(\"spark.executor.memory\"))\n",
    "print(\"Executor Cores:\", conf.get(\"spark.executor.cores\"))"
   ]
  },
  {
   "cell_type": "markdown",
   "id": "8d8e5449-8efb-4b53-8dd4-791c28406f02",
   "metadata": {
    "tags": []
   },
   "source": [
    "#### QUERY 1: RDD API"
   ]
  },
  {
   "cell_type": "code",
   "execution_count": 5,
   "id": "ce498506-cf3e-4719-ab45-652890b80c6f",
   "metadata": {
    "tags": []
   },
   "outputs": [
    {
     "data": {
      "application/vnd.jupyter.widget-view+json": {
       "model_id": "",
       "version_major": 2,
       "version_minor": 0
      },
      "text/plain": [
       "FloatProgress(value=0.0, bar_style='info', description='Progress:', layout=Layout(height='25px', width='50%'),…"
      ]
     },
     "metadata": {},
     "output_type": "display_data"
    },
    {
     "name": "stdout",
     "output_type": "stream",
     "text": [
      "Unified aggravated assault count: 176611\n",
      "[('adults', 121093), ('young adults', 33605), ('childs', 15923), ('elderly people', 5985)]\n",
      "Count of aggravated assault records without age information: 5\n",
      "Total number of aggravated assault records: 176611\n",
      "Execution time: 34.283 seconds"
     ]
    }
   ],
   "source": [
    "from pyspark.sql import SparkSession\n",
    "import time\n",
    "import re\n",
    "import csv  \n",
    "\n",
    "# Initialize SparkContext\n",
    "sc = SparkSession.builder.appName(\"Query 1\").getOrCreate().sparkContext\n",
    "\n",
    "# Start timing\n",
    "start_time = time.time()\n",
    "\n",
    "def parse_csv(line):\n",
    "    return next(csv.reader([line]))\n",
    "\n",
    "crime_data_10_to_19 = sc.textFile(\"s3://initial-notebook-data-bucket-dblab-905418150721/CrimeData/Crime_Data_from_2010_to_2019_20241101.csv\") \\\n",
    "    .map(parse_csv)\n",
    "crime_data_20_to_present = sc.textFile(\"s3://initial-notebook-data-bucket-dblab-905418150721/CrimeData/Crime_Data_from_2020_to_Present_20241101.csv\") \\\n",
    "    .map(parse_csv)\n",
    "\n",
    "# Filter out the header row\n",
    "header = crime_data_10_to_19.first()  # Get the first row (header)\n",
    "crime_data_10_to_19 = crime_data_10_to_19.filter(lambda row: row != header)\n",
    "crime_data_20_to_present = crime_data_20_to_present.filter(lambda row: row != header)\n",
    "\n",
    "\n",
    "# Filter for 'aggravated assault' in `Crm Cd Desc` using regex for case insensitivity\n",
    "aggravated_assault_10_to_19 = crime_data_10_to_19.filter(\n",
    "    lambda row: row[9] and re.search(r\"aggravated assault\", row[9].strip(), re.IGNORECASE)\n",
    ")\n",
    "aggravated_assault_20_to_present = crime_data_20_to_present.filter(\n",
    "    lambda row: row[9] and re.search(r\"aggravated assault\", row[9].strip(), re.IGNORECASE)\n",
    ")\n",
    "\n",
    "\n",
    "# Combine both RDDs into one unified RDD\n",
    "aggravated_assault_unified = aggravated_assault_10_to_19.union(aggravated_assault_20_to_present)\n",
    "\n",
    "# Print total unified count\n",
    "print(f\"Unified aggravated assault count: {aggravated_assault_unified.count()}\")\n",
    "\n",
    "# Map age to target groups and count occurrences, adding checks for invalid values (negative or null age)\n",
    "age_group_counts = aggravated_assault_unified \\\n",
    "    .filter(lambda row: row[11].isdigit() and int(row[11]) >= 0) \\\n",
    "    .map(lambda row: int(row[11])) \\\n",
    "    .map(lambda age: (\"childs\", 1) if age < 18 else  # Childs: age < 18\n",
    "                     (\"young adults\", 1) if 18 <= age <= 24 else  # Young Adults: 18-24\n",
    "                     (\"adults\", 1) if 25 <= age <= 64 else  # Adults: 25-64\n",
    "                     (\"elderly people\", 1)) \\\n",
    "    .reduceByKey(lambda a, b: a + b)  # Count occurrences in each group\n",
    "\n",
    "# Sort by count in descending order\n",
    "sorted_age_groups = age_group_counts.sortBy(lambda x: x[1], ascending=False)\n",
    "\n",
    "print(sorted_age_groups.collect())\n",
    "\n",
    "# Count cases without age information (non-numeric or negative values in `Vict Age`)\n",
    "missing_age_count = aggravated_assault_unified.filter(lambda row: not row[11].isdigit() or int(row[11]) < 0).count()\n",
    "print(f\"Count of aggravated assault records without age information: {missing_age_count}\")\n",
    "\n",
    "# Get the total number of elements in the unified RDD\n",
    "total_elements = aggravated_assault_unified.count()\n",
    "\n",
    "# Print the total number of elements\n",
    "print(f\"Total number of aggravated assault records: {total_elements}\")\n",
    "\n",
    "# End timing\n",
    "end_time = time.time()\n",
    "print(f\"Execution time: {round(end_time - start_time, 3)} seconds\")\n"
   ]
  },
  {
   "cell_type": "markdown",
   "id": "d916f489-5f2f-4ffa-9794-14e01631c038",
   "metadata": {},
   "source": [
    "#### QUERY 1: DATAFRAME"
   ]
  },
  {
   "cell_type": "code",
   "execution_count": 4,
   "id": "0bd96f4a-4153-4a3c-86f9-cb7b663c4d89",
   "metadata": {
    "tags": []
   },
   "outputs": [
    {
     "data": {
      "application/vnd.jupyter.widget-view+json": {
       "model_id": "",
       "version_major": 2,
       "version_minor": 0
      },
      "text/plain": [
       "FloatProgress(value=0.0, bar_style='info', description='Progress:', layout=Layout(height='25px', width='50%'),…"
      ]
     },
     "metadata": {},
     "output_type": "display_data"
    },
    {
     "name": "stdout",
     "output_type": "stream",
     "text": [
      "+--------------+------+\n",
      "|     Age Group| count|\n",
      "+--------------+------+\n",
      "|        adults|121093|\n",
      "|  young adults| 33605|\n",
      "|        childs| 15928|\n",
      "|elderly people|  5985|\n",
      "+--------------+------+\n",
      "\n",
      "Count of aggravated assault records without age information: 5\n",
      "Execution time: 18.423 seconds"
     ]
    }
   ],
   "source": [
    "from pyspark.sql import SparkSession\n",
    "from pyspark.sql.types import StructField, StructType, IntegerType, DoubleType, StringType\n",
    "from pyspark.sql.functions import col, lower, when\n",
    "import time\n",
    "\n",
    "# Δημιουργία SparkSession\n",
    "spark = SparkSession \\\n",
    "    .builder \\\n",
    "    .appName(\"DF query 1 execution\") \\\n",
    "    .getOrCreate()\n",
    "\n",
    "# Ορισμός Schema για το DataFrame\n",
    "crime_data_schema = StructType([\n",
    "    StructField(\"dr_no\", IntegerType(), False),\n",
    "    StructField(\"date_rptd\", StringType(), True),\n",
    "    StructField(\"date_occ\", StringType(), True),\n",
    "    StructField(\"time_occ\", IntegerType(), True),\n",
    "    StructField(\"area\", IntegerType(), True),\n",
    "    StructField(\"area_name\", StringType(), True),\n",
    "    StructField(\"rpt_dist_no\", IntegerType(), True),\n",
    "    StructField(\"part_1_2\", IntegerType(), True),\n",
    "    StructField(\"crm_cd\", IntegerType(), True),\n",
    "    StructField(\"crm_cd_desc\", StringType(), True),\n",
    "    StructField(\"mocodes\", StringType(), True),\n",
    "    StructField(\"vict_age\", IntegerType(), True),\n",
    "    StructField(\"vict_sex\", StringType(), True),\n",
    "    StructField(\"vict_descent\", StringType(), True),\n",
    "    StructField(\"premis_cd\", IntegerType(), True),\n",
    "    StructField(\"premis_desc\", StringType(), True),\n",
    "    StructField(\"weapon_used_cd\", IntegerType(), True),\n",
    "    StructField(\"weapon_desc\", StringType(), True),\n",
    "    StructField(\"status\", StringType(), True),\n",
    "    StructField(\"status_desc\", StringType(), True),\n",
    "    StructField(\"crm_cd_1\", IntegerType(), True),\n",
    "    StructField(\"crm_cd_2\", IntegerType(), True),\n",
    "    StructField(\"crm_cd_3\", IntegerType(), True),\n",
    "    StructField(\"crm_cd_4\", IntegerType(), True),\n",
    "    StructField(\"location\", StringType(), True),\n",
    "    StructField(\"cross_street\", StringType(), True),\n",
    "    StructField(\"lat\", DoubleType(), True),\n",
    "    StructField(\"lon\", DoubleType(), True)\n",
    "])\n",
    "\n",
    "# Ξεκίνημα χρονόμετρου\n",
    "start_time = time.time()\n",
    "\n",
    "# Φόρτωση των δεδομένων με το schema\n",
    "crime_data_10_to_19_df = spark.read.format('csv') \\\n",
    "    .options(header='true', dateFormat='03/01/2020 12:00:00 AM') \\\n",
    "    .schema(crime_data_schema) \\\n",
    "    .load(\"s3://initial-notebook-data-bucket-dblab-905418150721/CrimeData/Crime_Data_from_2010_to_2019_20241101.csv\")\n",
    "\n",
    "crime_data_20_to_present_df = spark.read.format('csv') \\\n",
    "    .options(header='true', dateFormat='MM/dd/yyyy hh:mm:ss am') \\\n",
    "    .schema(crime_data_schema) \\\n",
    "    .load(\"s3://initial-notebook-data-bucket-dblab-905418150721/CrimeData/Crime_Data_from_2020_to_Present_20241101.csv\")\n",
    "\n",
    "# Συγχώνευση των δύο DataFrames\n",
    "unified_crime_data_df = crime_data_10_to_19_df.union(crime_data_20_to_present_df)\n",
    "\n",
    "# Φιλτράρισμα για \"aggravated assault\" στη στήλη crm_cd_desc (χωρίς ευαισθησία στην περίπτωση χαρακτήρων)\n",
    "aggravated_assault_df = unified_crime_data_df.filter(\n",
    "    lower(col(\"crm_cd_desc\")).contains(\"aggravated assault\")\n",
    ")\n",
    "\n",
    "# Φιλτράρισμα για ελλιπή ή μη έγκυρα δεδομένα στην ηλικία του θύματος (Vict Age)\n",
    "invalid_age_df = aggravated_assault_df.filter(\n",
    "    col(\"vict_age\").isNull() | (col(\"vict_age\") < 0)\n",
    ")\n",
    "\n",
    "# Προσθήκη στήλης \"Age Group\" με βάση την ηλικία του θύματος\n",
    "aggravated_assault_with_age_group = aggravated_assault_df.withColumn(\n",
    "    \"Age Group\",\n",
    "    when(col(\"vict_age\") < 18, \"childs\")\n",
    "    .when((col(\"vict_age\") >= 18) & (col(\"vict_age\") <= 24), \"young adults\")\n",
    "    .when((col(\"vict_age\") >= 25) & (col(\"vict_age\") <= 64), \"adults\")\n",
    "    .when(col(\"vict_age\") > 64, \"elderly people\")\n",
    ")\n",
    "\n",
    "# Ομαδοποίηση κατά Age Group και εμφάνιση των αποτελεσμάτων\n",
    "age_group_counts = aggravated_assault_with_age_group.groupBy(\"Age Group\").count().orderBy(\"count\", ascending=False)\n",
    "\n",
    "# Εμφάνιση των αποτελεσμάτων\n",
    "age_group_counts.show()\n",
    "\n",
    "# Μετρητής για ελλιπή δεδομένα στην ηλικία\n",
    "missing_age_count = invalid_age_df.count()\n",
    "print(f\"Count of aggravated assault records without age information: {missing_age_count}\")\n",
    "\n",
    "# Τέλος χρονόμετρου\n",
    "end_time = time.time()\n",
    "print(f\"Execution time: {round(end_time - start_time, 3)} seconds\")\n"
   ]
  },
  {
   "cell_type": "code",
   "execution_count": null,
   "id": "58b7a5ac-b2cd-4711-a49b-94c2084c3d04",
   "metadata": {},
   "outputs": [],
   "source": []
  }
 ],
 "metadata": {
  "kernelspec": {
   "display_name": "Sparkmagic (PySpark)",
   "language": "python",
   "name": "pysparkkernel"
  },
  "language_info": {
   "codemirror_mode": {
    "name": "python",
    "version": 3
   },
   "file_extension": ".py",
   "mimetype": "text/x-python",
   "name": "pyspark",
   "pygments_lexer": "python3"
  }
 },
 "nbformat": 4,
 "nbformat_minor": 5
}
