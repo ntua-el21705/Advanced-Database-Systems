{
 "cells": [
  {
   "cell_type": "markdown",
   "id": "6d9e24eb",
   "metadata": {},
   "source": [
    "# Ζητούμενο 5"
   ]
  },
  {
   "cell_type": "markdown",
   "id": "d328c8ac",
   "metadata": {},
   "source": [
    "### Να υλοποιηθεί το Query 5 χρησιμοποιώντας το DataFrame ή SQL API. Να εκτελέσετε την υλοποίησή σας χρησιμοποιώντας συνολικούς πόρους 8 cores και 16GB μνήμης με τα παρακάτω configurations:\n",
    "> * 2 executors × 4 cores/8GB memory\n",
    "> * 4 executors × 2 cores/4GB memory\n",
    "> * 8 executors × 1 core/2 GB memory"
   ]
  },
  {
   "cell_type": "markdown",
   "id": "2ee94af4",
   "metadata": {},
   "source": [
    "### * Conf 1"
   ]
  },
  {
   "cell_type": "code",
   "execution_count": 1,
   "id": "d09214e2",
   "metadata": {},
   "outputs": [
    {
     "data": {
      "text/html": [
       "Current session configs: <tt>{'conf': {'spark.sql.catalog.spark_catalog.type': 'hive', 'spark.executor.instances': '2', 'spark.executor.memory': '8g', 'spark.executor.cores': '4', 'spark.driver.memory': '2g'}, 'kind': 'pyspark'}</tt><br>"
      ],
      "text/plain": [
       "<IPython.core.display.HTML object>"
      ]
     },
     "metadata": {},
     "output_type": "display_data"
    },
    {
     "data": {
      "text/html": [
       "<table>\n",
       "<tr><th>ID</th><th>YARN Application ID</th><th>Kind</th><th>State</th><th>Spark UI</th><th>Driver log</th><th>User</th><th>Current session?</th></tr><tr><td>170</td><td>application_1738075734771_0171</td><td>pyspark</td><td>idle</td><td><a target=\"_blank\" href=\"http://ip-192-168-1-12.eu-central-1.compute.internal:20888/proxy/application_1738075734771_0171/\">Link</a></td><td><a target=\"_blank\" href=\"http://ip-192-168-1-139.eu-central-1.compute.internal:8042/node/containerlogs/container_1738075734771_0171_01_000002/livy\">Link</a></td><td>None</td><td></td></tr><tr><td>171</td><td>application_1738075734771_0172</td><td>pyspark</td><td>idle</td><td><a target=\"_blank\" href=\"http://ip-192-168-1-12.eu-central-1.compute.internal:20888/proxy/application_1738075734771_0172/\">Link</a></td><td><a target=\"_blank\" href=\"http://ip-192-168-1-139.eu-central-1.compute.internal:8042/node/containerlogs/container_1738075734771_0172_01_000002/livy\">Link</a></td><td>None</td><td></td></tr><tr><td>173</td><td>application_1738075734771_0174</td><td>pyspark</td><td>idle</td><td><a target=\"_blank\" href=\"http://ip-192-168-1-12.eu-central-1.compute.internal:20888/proxy/application_1738075734771_0174/\">Link</a></td><td><a target=\"_blank\" href=\"http://ip-192-168-1-137.eu-central-1.compute.internal:8042/node/containerlogs/container_1738075734771_0174_01_000001/livy\">Link</a></td><td>None</td><td></td></tr><tr><td>174</td><td>application_1738075734771_0175</td><td>pyspark</td><td>idle</td><td><a target=\"_blank\" href=\"http://ip-192-168-1-12.eu-central-1.compute.internal:20888/proxy/application_1738075734771_0175/\">Link</a></td><td><a target=\"_blank\" href=\"http://ip-192-168-1-75.eu-central-1.compute.internal:8042/node/containerlogs/container_1738075734771_0175_01_000002/livy\">Link</a></td><td>None</td><td></td></tr><tr><td>175</td><td>application_1738075734771_0176</td><td>pyspark</td><td>idle</td><td><a target=\"_blank\" href=\"http://ip-192-168-1-12.eu-central-1.compute.internal:20888/proxy/application_1738075734771_0176/\">Link</a></td><td><a target=\"_blank\" href=\"http://ip-192-168-1-194.eu-central-1.compute.internal:8042/node/containerlogs/container_1738075734771_0176_01_000002/livy\">Link</a></td><td>None</td><td></td></tr><tr><td>183</td><td>application_1738075734771_0184</td><td>pyspark</td><td>idle</td><td><a target=\"_blank\" href=\"http://ip-192-168-1-12.eu-central-1.compute.internal:20888/proxy/application_1738075734771_0184/\">Link</a></td><td><a target=\"_blank\" href=\"http://ip-192-168-1-32.eu-central-1.compute.internal:8042/node/containerlogs/container_1738075734771_0184_01_000001/livy\">Link</a></td><td>None</td><td></td></tr><tr><td>186</td><td>application_1738075734771_0187</td><td>pyspark</td><td>idle</td><td><a target=\"_blank\" href=\"http://ip-192-168-1-12.eu-central-1.compute.internal:20888/proxy/application_1738075734771_0187/\">Link</a></td><td><a target=\"_blank\" href=\"http://ip-192-168-1-32.eu-central-1.compute.internal:8042/node/containerlogs/container_1738075734771_0187_01_000001/livy\">Link</a></td><td>None</td><td></td></tr><tr><td>193</td><td>application_1738075734771_0194</td><td>pyspark</td><td>idle</td><td><a target=\"_blank\" href=\"http://ip-192-168-1-12.eu-central-1.compute.internal:20888/proxy/application_1738075734771_0194/\">Link</a></td><td><a target=\"_blank\" href=\"http://ip-192-168-1-194.eu-central-1.compute.internal:8042/node/containerlogs/container_1738075734771_0194_01_000002/livy\">Link</a></td><td>None</td><td></td></tr><tr><td>195</td><td>application_1738075734771_0196</td><td>pyspark</td><td>idle</td><td><a target=\"_blank\" href=\"http://ip-192-168-1-12.eu-central-1.compute.internal:20888/proxy/application_1738075734771_0196/\">Link</a></td><td><a target=\"_blank\" href=\"http://ip-192-168-1-137.eu-central-1.compute.internal:8042/node/containerlogs/container_1738075734771_0196_01_000001/livy\">Link</a></td><td>None</td><td></td></tr><tr><td>215</td><td>application_1738075734771_0216</td><td>pyspark</td><td>idle</td><td><a target=\"_blank\" href=\"http://ip-192-168-1-12.eu-central-1.compute.internal:20888/proxy/application_1738075734771_0216/\">Link</a></td><td><a target=\"_blank\" href=\"http://ip-192-168-1-245.eu-central-1.compute.internal:8042/node/containerlogs/container_1738075734771_0216_01_000001/livy\">Link</a></td><td>None</td><td></td></tr><tr><td>229</td><td>application_1738075734771_0230</td><td>pyspark</td><td>idle</td><td><a target=\"_blank\" href=\"http://ip-192-168-1-12.eu-central-1.compute.internal:20888/proxy/application_1738075734771_0230/\">Link</a></td><td><a target=\"_blank\" href=\"http://ip-192-168-1-210.eu-central-1.compute.internal:8042/node/containerlogs/container_1738075734771_0230_01_000001/livy\">Link</a></td><td>None</td><td></td></tr><tr><td>233</td><td>application_1738075734771_0234</td><td>pyspark</td><td>idle</td><td><a target=\"_blank\" href=\"http://ip-192-168-1-12.eu-central-1.compute.internal:20888/proxy/application_1738075734771_0234/\">Link</a></td><td><a target=\"_blank\" href=\"http://ip-192-168-1-139.eu-central-1.compute.internal:8042/node/containerlogs/container_1738075734771_0234_01_000001/livy\">Link</a></td><td>None</td><td></td></tr><tr><td>237</td><td>application_1738075734771_0238</td><td>pyspark</td><td>idle</td><td><a target=\"_blank\" href=\"http://ip-192-168-1-12.eu-central-1.compute.internal:20888/proxy/application_1738075734771_0238/\">Link</a></td><td><a target=\"_blank\" href=\"http://ip-192-168-1-100.eu-central-1.compute.internal:8042/node/containerlogs/container_1738075734771_0238_01_000001/livy\">Link</a></td><td>None</td><td></td></tr><tr><td>240</td><td>application_1738075734771_0241</td><td>pyspark</td><td>idle</td><td><a target=\"_blank\" href=\"http://ip-192-168-1-12.eu-central-1.compute.internal:20888/proxy/application_1738075734771_0241/\">Link</a></td><td><a target=\"_blank\" href=\"http://ip-192-168-1-228.eu-central-1.compute.internal:8042/node/containerlogs/container_1738075734771_0241_01_000001/livy\">Link</a></td><td>None</td><td></td></tr></table>"
      ],
      "text/plain": [
       "<IPython.core.display.HTML object>"
      ]
     },
     "metadata": {},
     "output_type": "display_data"
    }
   ],
   "source": [
    "%%configure -f\n",
    "{\n",
    "    \"conf\": {\n",
    "        \"spark.executor.instances\": \"2\",\n",
    "        \"spark.executor.memory\": \"8g\",\n",
    "        \"spark.executor.cores\": \"4\",\n",
    "        \"spark.driver.memory\": \"2g\"\n",
    "    }\n",
    "}"
   ]
  },
  {
   "cell_type": "code",
   "execution_count": 2,
   "id": "877424d7",
   "metadata": {},
   "outputs": [
    {
     "name": "stdout",
     "output_type": "stream",
     "text": [
      "Starting Spark application\n"
     ]
    },
    {
     "data": {
      "text/html": [
       "<table>\n",
       "<tr><th>ID</th><th>YARN Application ID</th><th>Kind</th><th>State</th><th>Spark UI</th><th>Driver log</th><th>User</th><th>Current session?</th></tr><tr><td>245</td><td>application_1738075734771_0246</td><td>pyspark</td><td>idle</td><td><a target=\"_blank\" href=\"http://ip-192-168-1-12.eu-central-1.compute.internal:20888/proxy/application_1738075734771_0246/\">Link</a></td><td><a target=\"_blank\" href=\"http://ip-192-168-1-241.eu-central-1.compute.internal:8042/node/containerlogs/container_1738075734771_0246_01_000001/livy\">Link</a></td><td>None</td><td>✔</td></tr></table>"
      ],
      "text/plain": [
       "<IPython.core.display.HTML object>"
      ]
     },
     "metadata": {},
     "output_type": "display_data"
    },
    {
     "data": {
      "application/vnd.jupyter.widget-view+json": {
       "model_id": "",
       "version_major": 2,
       "version_minor": 0
      },
      "text/plain": [
       "FloatProgress(value=0.0, bar_style='info', description='Progress:', layout=Layout(height='25px', width='50%'),…"
      ]
     },
     "metadata": {},
     "output_type": "display_data"
    },
    {
     "name": "stdout",
     "output_type": "stream",
     "text": [
      "SparkSession available as 'spark'.\n"
     ]
    },
    {
     "data": {
      "application/vnd.jupyter.widget-view+json": {
       "model_id": "",
       "version_major": 2,
       "version_minor": 0
      },
      "text/plain": [
       "FloatProgress(value=0.0, bar_style='info', description='Progress:', layout=Layout(height='25px', width='50%'),…"
      ]
     },
     "metadata": {},
     "output_type": "display_data"
    },
    {
     "name": "stdout",
     "output_type": "stream",
     "text": [
      "Executor Instances: 2\n",
      "Executor Memory: 8g\n",
      "Executor Cores: 4"
     ]
    }
   ],
   "source": [
    "# Access configuration\n",
    "conf = spark.sparkContext.getConf()\n",
    "\n",
    "# Print relevant executor settings\n",
    "print(\"Executor Instances:\", conf.get(\"spark.executor.instances\"))\n",
    "print(\"Executor Memory:\", conf.get(\"spark.executor.memory\"))\n",
    "print(\"Executor Cores:\", conf.get(\"spark.executor.cores\"))"
   ]
  },
  {
   "cell_type": "code",
   "execution_count": 3,
   "id": "664ed04d",
   "metadata": {},
   "outputs": [
    {
     "data": {
      "application/vnd.jupyter.widget-view+json": {
       "model_id": "",
       "version_major": 2,
       "version_minor": 0
      },
      "text/plain": [
       "FloatProgress(value=0.0, bar_style='info', description='Progress:', layout=Layout(height='25px', width='50%'),…"
      ]
     },
     "metadata": {},
     "output_type": "display_data"
    },
    {
     "name": "stdout",
     "output_type": "stream",
     "text": [
      "+----------------+------------------+------+\n",
      "|DIVISION        |average_distance  |#     |\n",
      "+----------------+------------------+------+\n",
      "|HOLLYWOOD       |2.0762639601787183|224340|\n",
      "|VAN NUYS        |2.9533697428197803|210134|\n",
      "|SOUTHWEST       |2.1913988057808833|188901|\n",
      "|WILSHIRE        |2.592665532978764 |185996|\n",
      "|77TH STREET     |1.7165449719700954|171827|\n",
      "|OLYMPIC         |1.723603697178095 |170897|\n",
      "|NORTH HOLLYWOOD |2.643006094141564 |167854|\n",
      "|PACIFIC         |3.850070655307917 |161359|\n",
      "|CENTRAL         |0.9924764374568906|153871|\n",
      "|RAMPART         |1.5345341879190124|152736|\n",
      "|SOUTHEAST       |2.4218662158881807|152176|\n",
      "|WEST VALLEY     |3.03567121631407  |138643|\n",
      "|TOPANGA         |3.2969548417555536|138217|\n",
      "|FOOTHILL        |4.250921708424982 |134896|\n",
      "|HARBOR          |3.702561599356522 |126747|\n",
      "|HOLLENBECK      |2.680181237706819 |115837|\n",
      "|WEST LOS ANGELES|2.7924572890341226|115781|\n",
      "|NEWTON          |1.6346357397097429|111110|\n",
      "|NORTHEAST       |3.6236655246040876|108109|\n",
      "|MISSION         |3.6909426142785966|103355|\n",
      "+----------------+------------------+------+\n",
      "only showing top 20 rows\n",
      "\n",
      "Time taken: 104.01 seconds"
     ]
    }
   ],
   "source": [
    "# DF query 5 execution 2*(4/8)\n",
    "from pyspark.sql import functions as F\n",
    "from sedona.spark import *\n",
    "from pyspark.sql import SparkSession\n",
    "from pyspark.sql.types import StructField, StructType, IntegerType, DoubleType, StringType\n",
    "from pyspark.sql.functions import col\n",
    "from pyspark.sql.window import Window\n",
    "import time\n",
    "\n",
    "group_number = \"5\"\n",
    "base_s3_path = \"s3://groups-bucket-dblab-905418150721/group\"+group_number+\"/CrimeData/\"\n",
    "\n",
    "parquet_s3_path = base_s3_path + \"parquet/\"\n",
    "\n",
    "spark = SparkSession \\\n",
    "    .builder \\\n",
    "    .appName(\"DF query 5 execution 2*(4/8)\") \\\n",
    "    .getOrCreate()\n",
    "\n",
    "# Create sedona context\n",
    "sedona = SedonaContext.create(spark)\n",
    "\n",
    "start_time = time.time()\n",
    "\n",
    "la_police_stations_schema = StructType([StructField(\"X\", DoubleType(), False),\n",
    "    StructField(\"Y\", DoubleType(), False),\n",
    "    StructField(\"FID\", IntegerType(), False),\n",
    "    StructField(\"DIVISION\", StringType(), False),\n",
    "    StructField(\"LOCATION\", StringType(), False),\n",
    "    StructField(\"PREC\", IntegerType(), False)])\n",
    "\n",
    "la_police_stations_df = spark.read.format('csv') \\\n",
    "    .options(header='true') \\\n",
    "    .schema(la_police_stations_schema) \\\n",
    "    .load(\"s3://initial-notebook-data-bucket-dblab-905418150721/LA_Police_Stations.csv\")\n",
    "    \n",
    "la_police_stations_df = la_police_stations_df.withColumn(\"station_point\", ST_Point(\"X\", \"Y\"))\n",
    "\n",
    "#la_police_stations_df.printSchema()\n",
    "#la_police_stations_df.show(5)\n",
    "\n",
    "unified_crime_data_df = spark.read.parquet(parquet_s3_path)\n",
    "null_island_filtered = unified_crime_data_df.filter(~((col(\"lat\") == 0) & (col(\"lon\") == 0))) \\\n",
    "    .withColumn(\"crime_point\", ST_Point(\"lon\", \"lat\"))\n",
    "\n",
    "#null_island_filtered.show(5)\n",
    "#null_island_filtered.printSchema()\n",
    "\n",
    "unified_df = null_island_filtered.crossJoin(la_police_stations_df)\n",
    "unified_df = unified_df.select(\n",
    "    \"dr_no\",\n",
    "    \"station_point\",  # from la_police_stations_df\n",
    "    \"crime_point\",    # from null_island_filtered\n",
    "    \"DIVISION\"        # from la_police_stations_df\n",
    ")\n",
    "#unified_df.show(5)\n",
    "\n",
    "unified_df = unified_df.withColumn(\"distance_km\", ST_DistanceSphere(\"station_point\", \"crime_point\")/1000)\n",
    "#unified_df.show(22)\n",
    "\n",
    "unified_df_min_distance = unified_df \\\n",
    "    .withColumn(\"row_num\", F.row_number().over(Window.partitionBy(\"dr_no\").orderBy(\"distance_km\"))) \\\n",
    "    .filter(F.col(\"row_num\") == 1) \\\n",
    "    .drop(\"row_num\")\n",
    "\n",
    "#unified_df_min_distance.show(5)\n",
    "#unified_df_min_distance.filter(F.col(\"dr_no\") == 1307355).show(5)\n",
    "\n",
    "division_summary_df = unified_df_min_distance \\\n",
    "    .groupBy(\"DIVISION\") \\\n",
    "    .agg(\n",
    "        F.avg(\"distance_km\").alias(\"average_distance\"),\n",
    "        F.count(\"dr_no\").alias(\"#\")\n",
    "    ) \\\n",
    "    .orderBy(F.col(\"#\").desc())  # Sort by the count column in descending order\n",
    "\n",
    "# Show the resulting DataFrame\n",
    "division_summary_df.show(truncate=False)\n",
    "\n",
    "end_time = time.time()\n",
    "elapsed_time = end_time - start_time\n",
    "print(f\"Time taken: {elapsed_time:.2f} seconds\")"
   ]
  },
  {
   "cell_type": "markdown",
   "id": "9d8bc870",
   "metadata": {},
   "source": [
    "### * Conf 2"
   ]
  },
  {
   "cell_type": "code",
   "execution_count": 4,
   "id": "d00b840f",
   "metadata": {},
   "outputs": [
    {
     "name": "stdout",
     "output_type": "stream",
     "text": [
      "Starting Spark application\n"
     ]
    },
    {
     "data": {
      "text/html": [
       "<table>\n",
       "<tr><th>ID</th><th>YARN Application ID</th><th>Kind</th><th>State</th><th>Spark UI</th><th>Driver log</th><th>User</th><th>Current session?</th></tr><tr><td>246</td><td>application_1738075734771_0247</td><td>pyspark</td><td>idle</td><td><a target=\"_blank\" href=\"http://ip-192-168-1-12.eu-central-1.compute.internal:20888/proxy/application_1738075734771_0247/\">Link</a></td><td><a target=\"_blank\" href=\"http://ip-192-168-1-228.eu-central-1.compute.internal:8042/node/containerlogs/container_1738075734771_0247_01_000001/livy\">Link</a></td><td>None</td><td>✔</td></tr></table>"
      ],
      "text/plain": [
       "<IPython.core.display.HTML object>"
      ]
     },
     "metadata": {},
     "output_type": "display_data"
    },
    {
     "data": {
      "application/vnd.jupyter.widget-view+json": {
       "model_id": "",
       "version_major": 2,
       "version_minor": 0
      },
      "text/plain": [
       "FloatProgress(value=0.0, bar_style='info', description='Progress:', layout=Layout(height='25px', width='50%'),…"
      ]
     },
     "metadata": {},
     "output_type": "display_data"
    },
    {
     "name": "stdout",
     "output_type": "stream",
     "text": [
      "SparkSession available as 'spark'.\n"
     ]
    },
    {
     "data": {
      "text/html": [
       "Current session configs: <tt>{'conf': {'spark.sql.catalog.spark_catalog.type': 'hive', 'spark.executor.instances': '4', 'spark.executor.memory': '4g', 'spark.executor.cores': '2', 'spark.driver.memory': '2g'}, 'kind': 'pyspark'}</tt><br>"
      ],
      "text/plain": [
       "<IPython.core.display.HTML object>"
      ]
     },
     "metadata": {},
     "output_type": "display_data"
    },
    {
     "data": {
      "text/html": [
       "<table>\n",
       "<tr><th>ID</th><th>YARN Application ID</th><th>Kind</th><th>State</th><th>Spark UI</th><th>Driver log</th><th>User</th><th>Current session?</th></tr><tr><td>170</td><td>application_1738075734771_0171</td><td>pyspark</td><td>idle</td><td><a target=\"_blank\" href=\"http://ip-192-168-1-12.eu-central-1.compute.internal:20888/proxy/application_1738075734771_0171/\">Link</a></td><td><a target=\"_blank\" href=\"http://ip-192-168-1-139.eu-central-1.compute.internal:8042/node/containerlogs/container_1738075734771_0171_01_000002/livy\">Link</a></td><td>None</td><td></td></tr><tr><td>171</td><td>application_1738075734771_0172</td><td>pyspark</td><td>idle</td><td><a target=\"_blank\" href=\"http://ip-192-168-1-12.eu-central-1.compute.internal:20888/proxy/application_1738075734771_0172/\">Link</a></td><td><a target=\"_blank\" href=\"http://ip-192-168-1-139.eu-central-1.compute.internal:8042/node/containerlogs/container_1738075734771_0172_01_000002/livy\">Link</a></td><td>None</td><td></td></tr><tr><td>173</td><td>application_1738075734771_0174</td><td>pyspark</td><td>idle</td><td><a target=\"_blank\" href=\"http://ip-192-168-1-12.eu-central-1.compute.internal:20888/proxy/application_1738075734771_0174/\">Link</a></td><td><a target=\"_blank\" href=\"http://ip-192-168-1-137.eu-central-1.compute.internal:8042/node/containerlogs/container_1738075734771_0174_01_000001/livy\">Link</a></td><td>None</td><td></td></tr><tr><td>174</td><td>application_1738075734771_0175</td><td>pyspark</td><td>idle</td><td><a target=\"_blank\" href=\"http://ip-192-168-1-12.eu-central-1.compute.internal:20888/proxy/application_1738075734771_0175/\">Link</a></td><td><a target=\"_blank\" href=\"http://ip-192-168-1-75.eu-central-1.compute.internal:8042/node/containerlogs/container_1738075734771_0175_01_000002/livy\">Link</a></td><td>None</td><td></td></tr><tr><td>175</td><td>application_1738075734771_0176</td><td>pyspark</td><td>idle</td><td><a target=\"_blank\" href=\"http://ip-192-168-1-12.eu-central-1.compute.internal:20888/proxy/application_1738075734771_0176/\">Link</a></td><td><a target=\"_blank\" href=\"http://ip-192-168-1-194.eu-central-1.compute.internal:8042/node/containerlogs/container_1738075734771_0176_01_000002/livy\">Link</a></td><td>None</td><td></td></tr><tr><td>183</td><td>application_1738075734771_0184</td><td>pyspark</td><td>idle</td><td><a target=\"_blank\" href=\"http://ip-192-168-1-12.eu-central-1.compute.internal:20888/proxy/application_1738075734771_0184/\">Link</a></td><td><a target=\"_blank\" href=\"http://ip-192-168-1-32.eu-central-1.compute.internal:8042/node/containerlogs/container_1738075734771_0184_01_000001/livy\">Link</a></td><td>None</td><td></td></tr><tr><td>186</td><td>application_1738075734771_0187</td><td>pyspark</td><td>idle</td><td><a target=\"_blank\" href=\"http://ip-192-168-1-12.eu-central-1.compute.internal:20888/proxy/application_1738075734771_0187/\">Link</a></td><td><a target=\"_blank\" href=\"http://ip-192-168-1-32.eu-central-1.compute.internal:8042/node/containerlogs/container_1738075734771_0187_01_000001/livy\">Link</a></td><td>None</td><td></td></tr><tr><td>193</td><td>application_1738075734771_0194</td><td>pyspark</td><td>idle</td><td><a target=\"_blank\" href=\"http://ip-192-168-1-12.eu-central-1.compute.internal:20888/proxy/application_1738075734771_0194/\">Link</a></td><td><a target=\"_blank\" href=\"http://ip-192-168-1-194.eu-central-1.compute.internal:8042/node/containerlogs/container_1738075734771_0194_01_000002/livy\">Link</a></td><td>None</td><td></td></tr><tr><td>195</td><td>application_1738075734771_0196</td><td>pyspark</td><td>idle</td><td><a target=\"_blank\" href=\"http://ip-192-168-1-12.eu-central-1.compute.internal:20888/proxy/application_1738075734771_0196/\">Link</a></td><td><a target=\"_blank\" href=\"http://ip-192-168-1-137.eu-central-1.compute.internal:8042/node/containerlogs/container_1738075734771_0196_01_000001/livy\">Link</a></td><td>None</td><td></td></tr><tr><td>215</td><td>application_1738075734771_0216</td><td>pyspark</td><td>idle</td><td><a target=\"_blank\" href=\"http://ip-192-168-1-12.eu-central-1.compute.internal:20888/proxy/application_1738075734771_0216/\">Link</a></td><td><a target=\"_blank\" href=\"http://ip-192-168-1-245.eu-central-1.compute.internal:8042/node/containerlogs/container_1738075734771_0216_01_000001/livy\">Link</a></td><td>None</td><td></td></tr><tr><td>229</td><td>application_1738075734771_0230</td><td>pyspark</td><td>idle</td><td><a target=\"_blank\" href=\"http://ip-192-168-1-12.eu-central-1.compute.internal:20888/proxy/application_1738075734771_0230/\">Link</a></td><td><a target=\"_blank\" href=\"http://ip-192-168-1-210.eu-central-1.compute.internal:8042/node/containerlogs/container_1738075734771_0230_01_000001/livy\">Link</a></td><td>None</td><td></td></tr><tr><td>233</td><td>application_1738075734771_0234</td><td>pyspark</td><td>idle</td><td><a target=\"_blank\" href=\"http://ip-192-168-1-12.eu-central-1.compute.internal:20888/proxy/application_1738075734771_0234/\">Link</a></td><td><a target=\"_blank\" href=\"http://ip-192-168-1-139.eu-central-1.compute.internal:8042/node/containerlogs/container_1738075734771_0234_01_000001/livy\">Link</a></td><td>None</td><td></td></tr><tr><td>237</td><td>application_1738075734771_0238</td><td>pyspark</td><td>idle</td><td><a target=\"_blank\" href=\"http://ip-192-168-1-12.eu-central-1.compute.internal:20888/proxy/application_1738075734771_0238/\">Link</a></td><td><a target=\"_blank\" href=\"http://ip-192-168-1-100.eu-central-1.compute.internal:8042/node/containerlogs/container_1738075734771_0238_01_000001/livy\">Link</a></td><td>None</td><td></td></tr><tr><td>240</td><td>application_1738075734771_0241</td><td>pyspark</td><td>idle</td><td><a target=\"_blank\" href=\"http://ip-192-168-1-12.eu-central-1.compute.internal:20888/proxy/application_1738075734771_0241/\">Link</a></td><td><a target=\"_blank\" href=\"http://ip-192-168-1-228.eu-central-1.compute.internal:8042/node/containerlogs/container_1738075734771_0241_01_000001/livy\">Link</a></td><td>None</td><td></td></tr><tr><td>246</td><td>application_1738075734771_0247</td><td>pyspark</td><td>idle</td><td><a target=\"_blank\" href=\"http://ip-192-168-1-12.eu-central-1.compute.internal:20888/proxy/application_1738075734771_0247/\">Link</a></td><td><a target=\"_blank\" href=\"http://ip-192-168-1-228.eu-central-1.compute.internal:8042/node/containerlogs/container_1738075734771_0247_01_000001/livy\">Link</a></td><td>None</td><td>✔</td></tr></table>"
      ],
      "text/plain": [
       "<IPython.core.display.HTML object>"
      ]
     },
     "metadata": {},
     "output_type": "display_data"
    }
   ],
   "source": [
    "%%configure -f\n",
    "{\n",
    "    \"conf\": {\n",
    "        \"spark.executor.instances\": \"4\",\n",
    "        \"spark.executor.memory\": \"4g\",\n",
    "        \"spark.executor.cores\": \"2\",\n",
    "        \"spark.driver.memory\": \"2g\"\n",
    "    }\n",
    "}"
   ]
  },
  {
   "cell_type": "code",
   "execution_count": 5,
   "id": "0c7cd623",
   "metadata": {},
   "outputs": [
    {
     "data": {
      "application/vnd.jupyter.widget-view+json": {
       "model_id": "",
       "version_major": 2,
       "version_minor": 0
      },
      "text/plain": [
       "FloatProgress(value=0.0, bar_style='info', description='Progress:', layout=Layout(height='25px', width='50%'),…"
      ]
     },
     "metadata": {},
     "output_type": "display_data"
    },
    {
     "name": "stdout",
     "output_type": "stream",
     "text": [
      "Executor Instances: 4\n",
      "Executor Memory: 4g\n",
      "Executor Cores: 2"
     ]
    }
   ],
   "source": [
    "# Access configuration\n",
    "conf = spark.sparkContext.getConf()\n",
    "\n",
    "# Print relevant executor settings\n",
    "print(\"Executor Instances:\", conf.get(\"spark.executor.instances\"))\n",
    "print(\"Executor Memory:\", conf.get(\"spark.executor.memory\"))\n",
    "print(\"Executor Cores:\", conf.get(\"spark.executor.cores\"))"
   ]
  },
  {
   "cell_type": "code",
   "execution_count": 6,
   "id": "7c39ba74",
   "metadata": {},
   "outputs": [
    {
     "data": {
      "application/vnd.jupyter.widget-view+json": {
       "model_id": "",
       "version_major": 2,
       "version_minor": 0
      },
      "text/plain": [
       "FloatProgress(value=0.0, bar_style='info', description='Progress:', layout=Layout(height='25px', width='50%'),…"
      ]
     },
     "metadata": {},
     "output_type": "display_data"
    },
    {
     "name": "stdout",
     "output_type": "stream",
     "text": [
      "+----------------+------------------+------+\n",
      "|DIVISION        |average_distance  |#     |\n",
      "+----------------+------------------+------+\n",
      "|HOLLYWOOD       |2.0762639601787183|224340|\n",
      "|VAN NUYS        |2.9533697428197803|210134|\n",
      "|SOUTHWEST       |2.1913988057808833|188901|\n",
      "|WILSHIRE        |2.592665532978764 |185996|\n",
      "|77TH STREET     |1.7165449719700954|171827|\n",
      "|OLYMPIC         |1.723603697178095 |170897|\n",
      "|NORTH HOLLYWOOD |2.643006094141564 |167854|\n",
      "|PACIFIC         |3.850070655307917 |161359|\n",
      "|CENTRAL         |0.9924764374568906|153871|\n",
      "|RAMPART         |1.5345341879190124|152736|\n",
      "|SOUTHEAST       |2.4218662158881807|152176|\n",
      "|WEST VALLEY     |3.03567121631407  |138643|\n",
      "|TOPANGA         |3.2969548417555536|138217|\n",
      "|FOOTHILL        |4.250921708424982 |134896|\n",
      "|HARBOR          |3.702561599356522 |126747|\n",
      "|HOLLENBECK      |2.680181237706819 |115837|\n",
      "|WEST LOS ANGELES|2.7924572890341226|115781|\n",
      "|NEWTON          |1.6346357397097429|111110|\n",
      "|NORTHEAST       |3.6236655246040876|108109|\n",
      "|MISSION         |3.6909426142785966|103355|\n",
      "+----------------+------------------+------+\n",
      "only showing top 20 rows\n",
      "\n",
      "Time taken: 105.10 seconds"
     ]
    }
   ],
   "source": [
    "# DF query 5 execution 4*(2/4)\n",
    "from pyspark.sql import functions as F\n",
    "from sedona.spark import *\n",
    "from pyspark.sql import SparkSession\n",
    "from pyspark.sql.types import StructField, StructType, IntegerType, DoubleType, StringType\n",
    "from pyspark.sql.functions import col\n",
    "from pyspark.sql.window import Window\n",
    "import time\n",
    "\n",
    "group_number = \"5\"\n",
    "base_s3_path = \"s3://groups-bucket-dblab-905418150721/group\"+group_number+\"/CrimeData/\"\n",
    "\n",
    "parquet_s3_path = base_s3_path + \"parquet/\"\n",
    "\n",
    "spark = SparkSession \\\n",
    "    .builder \\\n",
    "    .appName(\"DF query 5 execution 4*(2/4)\") \\\n",
    "    .getOrCreate()\n",
    "\n",
    "# Create sedona context\n",
    "sedona = SedonaContext.create(spark)\n",
    "\n",
    "start_time = time.time()\n",
    "\n",
    "la_police_stations_schema = StructType([StructField(\"X\", DoubleType(), False),\n",
    "    StructField(\"Y\", DoubleType(), False),\n",
    "    StructField(\"FID\", IntegerType(), False),\n",
    "    StructField(\"DIVISION\", StringType(), False),\n",
    "    StructField(\"LOCATION\", StringType(), False),\n",
    "    StructField(\"PREC\", IntegerType(), False)])\n",
    "\n",
    "la_police_stations_df = spark.read.format('csv') \\\n",
    "    .options(header='true') \\\n",
    "    .schema(la_police_stations_schema) \\\n",
    "    .load(\"s3://initial-notebook-data-bucket-dblab-905418150721/LA_Police_Stations.csv\")\n",
    "    \n",
    "la_police_stations_df = la_police_stations_df.withColumn(\"station_point\", ST_Point(\"X\", \"Y\"))\n",
    "\n",
    "#la_police_stations_df.printSchema()\n",
    "#la_police_stations_df.show(5)\n",
    "\n",
    "unified_crime_data_df = spark.read.parquet(parquet_s3_path)\n",
    "null_island_filtered = unified_crime_data_df.filter(~((col(\"lat\") == 0) & (col(\"lon\") == 0))) \\\n",
    "    .withColumn(\"crime_point\", ST_Point(\"lon\", \"lat\"))\n",
    "\n",
    "#null_island_filtered.show(5)\n",
    "#null_island_filtered.printSchema()\n",
    "\n",
    "unified_df = null_island_filtered.crossJoin(la_police_stations_df)\n",
    "unified_df = unified_df.select(\n",
    "    \"dr_no\",\n",
    "    \"station_point\",  # from la_police_stations_df\n",
    "    \"crime_point\",    # from null_island_filtered\n",
    "    \"DIVISION\"        # from la_police_stations_df\n",
    ")\n",
    "#unified_df.show(5)\n",
    "\n",
    "unified_df = unified_df.withColumn(\"distance_km\", ST_DistanceSphere(\"station_point\", \"crime_point\")/1000)\n",
    "#unified_df.show(22)\n",
    "\n",
    "unified_df_min_distance = unified_df \\\n",
    "    .withColumn(\"row_num\", F.row_number().over(Window.partitionBy(\"dr_no\").orderBy(\"distance_km\"))) \\\n",
    "    .filter(F.col(\"row_num\") == 1) \\\n",
    "    .drop(\"row_num\")\n",
    "\n",
    "#unified_df_min_distance.show(5)\n",
    "#unified_df_min_distance.filter(F.col(\"dr_no\") == 1307355).show(5)\n",
    "\n",
    "division_summary_df = unified_df_min_distance \\\n",
    "    .groupBy(\"DIVISION\") \\\n",
    "    .agg(\n",
    "        F.avg(\"distance_km\").alias(\"average_distance\"),\n",
    "        F.count(\"dr_no\").alias(\"#\")\n",
    "    ) \\\n",
    "    .orderBy(F.col(\"#\").desc())  # Sort by the count column in descending order\n",
    "\n",
    "# Show the resulting DataFrame\n",
    "division_summary_df.show(truncate=False)\n",
    "\n",
    "end_time = time.time()\n",
    "elapsed_time = end_time - start_time\n",
    "print(f\"Time taken: {elapsed_time:.2f} seconds\")"
   ]
  },
  {
   "cell_type": "markdown",
   "id": "80197447",
   "metadata": {},
   "source": [
    "### * Conf 3"
   ]
  },
  {
   "cell_type": "code",
   "execution_count": 7,
   "id": "b8d015a7",
   "metadata": {},
   "outputs": [
    {
     "name": "stdout",
     "output_type": "stream",
     "text": [
      "Starting Spark application\n"
     ]
    },
    {
     "data": {
      "text/html": [
       "<table>\n",
       "<tr><th>ID</th><th>YARN Application ID</th><th>Kind</th><th>State</th><th>Spark UI</th><th>Driver log</th><th>User</th><th>Current session?</th></tr><tr><td>247</td><td>application_1738075734771_0248</td><td>pyspark</td><td>idle</td><td><a target=\"_blank\" href=\"http://ip-192-168-1-12.eu-central-1.compute.internal:20888/proxy/application_1738075734771_0248/\">Link</a></td><td><a target=\"_blank\" href=\"http://ip-192-168-1-210.eu-central-1.compute.internal:8042/node/containerlogs/container_1738075734771_0248_01_000002/livy\">Link</a></td><td>None</td><td>✔</td></tr></table>"
      ],
      "text/plain": [
       "<IPython.core.display.HTML object>"
      ]
     },
     "metadata": {},
     "output_type": "display_data"
    },
    {
     "data": {
      "application/vnd.jupyter.widget-view+json": {
       "model_id": "",
       "version_major": 2,
       "version_minor": 0
      },
      "text/plain": [
       "FloatProgress(value=0.0, bar_style='info', description='Progress:', layout=Layout(height='25px', width='50%'),…"
      ]
     },
     "metadata": {},
     "output_type": "display_data"
    },
    {
     "name": "stdout",
     "output_type": "stream",
     "text": [
      "SparkSession available as 'spark'.\n"
     ]
    },
    {
     "data": {
      "text/html": [
       "Current session configs: <tt>{'conf': {'spark.sql.catalog.spark_catalog.type': 'hive', 'spark.executor.instances': '8', 'spark.executor.memory': '2g', 'spark.executor.cores': '1', 'spark.driver.memory': '2g'}, 'kind': 'pyspark'}</tt><br>"
      ],
      "text/plain": [
       "<IPython.core.display.HTML object>"
      ]
     },
     "metadata": {},
     "output_type": "display_data"
    },
    {
     "data": {
      "text/html": [
       "<table>\n",
       "<tr><th>ID</th><th>YARN Application ID</th><th>Kind</th><th>State</th><th>Spark UI</th><th>Driver log</th><th>User</th><th>Current session?</th></tr><tr><td>170</td><td>application_1738075734771_0171</td><td>pyspark</td><td>idle</td><td><a target=\"_blank\" href=\"http://ip-192-168-1-12.eu-central-1.compute.internal:20888/proxy/application_1738075734771_0171/\">Link</a></td><td><a target=\"_blank\" href=\"http://ip-192-168-1-139.eu-central-1.compute.internal:8042/node/containerlogs/container_1738075734771_0171_01_000002/livy\">Link</a></td><td>None</td><td></td></tr><tr><td>171</td><td>application_1738075734771_0172</td><td>pyspark</td><td>idle</td><td><a target=\"_blank\" href=\"http://ip-192-168-1-12.eu-central-1.compute.internal:20888/proxy/application_1738075734771_0172/\">Link</a></td><td><a target=\"_blank\" href=\"http://ip-192-168-1-139.eu-central-1.compute.internal:8042/node/containerlogs/container_1738075734771_0172_01_000002/livy\">Link</a></td><td>None</td><td></td></tr><tr><td>173</td><td>application_1738075734771_0174</td><td>pyspark</td><td>idle</td><td><a target=\"_blank\" href=\"http://ip-192-168-1-12.eu-central-1.compute.internal:20888/proxy/application_1738075734771_0174/\">Link</a></td><td><a target=\"_blank\" href=\"http://ip-192-168-1-137.eu-central-1.compute.internal:8042/node/containerlogs/container_1738075734771_0174_01_000001/livy\">Link</a></td><td>None</td><td></td></tr><tr><td>174</td><td>application_1738075734771_0175</td><td>pyspark</td><td>idle</td><td><a target=\"_blank\" href=\"http://ip-192-168-1-12.eu-central-1.compute.internal:20888/proxy/application_1738075734771_0175/\">Link</a></td><td><a target=\"_blank\" href=\"http://ip-192-168-1-75.eu-central-1.compute.internal:8042/node/containerlogs/container_1738075734771_0175_01_000002/livy\">Link</a></td><td>None</td><td></td></tr><tr><td>175</td><td>application_1738075734771_0176</td><td>pyspark</td><td>idle</td><td><a target=\"_blank\" href=\"http://ip-192-168-1-12.eu-central-1.compute.internal:20888/proxy/application_1738075734771_0176/\">Link</a></td><td><a target=\"_blank\" href=\"http://ip-192-168-1-194.eu-central-1.compute.internal:8042/node/containerlogs/container_1738075734771_0176_01_000002/livy\">Link</a></td><td>None</td><td></td></tr><tr><td>183</td><td>application_1738075734771_0184</td><td>pyspark</td><td>idle</td><td><a target=\"_blank\" href=\"http://ip-192-168-1-12.eu-central-1.compute.internal:20888/proxy/application_1738075734771_0184/\">Link</a></td><td><a target=\"_blank\" href=\"http://ip-192-168-1-32.eu-central-1.compute.internal:8042/node/containerlogs/container_1738075734771_0184_01_000001/livy\">Link</a></td><td>None</td><td></td></tr><tr><td>186</td><td>application_1738075734771_0187</td><td>pyspark</td><td>idle</td><td><a target=\"_blank\" href=\"http://ip-192-168-1-12.eu-central-1.compute.internal:20888/proxy/application_1738075734771_0187/\">Link</a></td><td><a target=\"_blank\" href=\"http://ip-192-168-1-32.eu-central-1.compute.internal:8042/node/containerlogs/container_1738075734771_0187_01_000001/livy\">Link</a></td><td>None</td><td></td></tr><tr><td>193</td><td>application_1738075734771_0194</td><td>pyspark</td><td>idle</td><td><a target=\"_blank\" href=\"http://ip-192-168-1-12.eu-central-1.compute.internal:20888/proxy/application_1738075734771_0194/\">Link</a></td><td><a target=\"_blank\" href=\"http://ip-192-168-1-194.eu-central-1.compute.internal:8042/node/containerlogs/container_1738075734771_0194_01_000002/livy\">Link</a></td><td>None</td><td></td></tr><tr><td>195</td><td>application_1738075734771_0196</td><td>pyspark</td><td>idle</td><td><a target=\"_blank\" href=\"http://ip-192-168-1-12.eu-central-1.compute.internal:20888/proxy/application_1738075734771_0196/\">Link</a></td><td><a target=\"_blank\" href=\"http://ip-192-168-1-137.eu-central-1.compute.internal:8042/node/containerlogs/container_1738075734771_0196_01_000001/livy\">Link</a></td><td>None</td><td></td></tr><tr><td>215</td><td>application_1738075734771_0216</td><td>pyspark</td><td>idle</td><td><a target=\"_blank\" href=\"http://ip-192-168-1-12.eu-central-1.compute.internal:20888/proxy/application_1738075734771_0216/\">Link</a></td><td><a target=\"_blank\" href=\"http://ip-192-168-1-245.eu-central-1.compute.internal:8042/node/containerlogs/container_1738075734771_0216_01_000001/livy\">Link</a></td><td>None</td><td></td></tr><tr><td>229</td><td>application_1738075734771_0230</td><td>pyspark</td><td>idle</td><td><a target=\"_blank\" href=\"http://ip-192-168-1-12.eu-central-1.compute.internal:20888/proxy/application_1738075734771_0230/\">Link</a></td><td><a target=\"_blank\" href=\"http://ip-192-168-1-210.eu-central-1.compute.internal:8042/node/containerlogs/container_1738075734771_0230_01_000001/livy\">Link</a></td><td>None</td><td></td></tr><tr><td>233</td><td>application_1738075734771_0234</td><td>pyspark</td><td>idle</td><td><a target=\"_blank\" href=\"http://ip-192-168-1-12.eu-central-1.compute.internal:20888/proxy/application_1738075734771_0234/\">Link</a></td><td><a target=\"_blank\" href=\"http://ip-192-168-1-139.eu-central-1.compute.internal:8042/node/containerlogs/container_1738075734771_0234_01_000001/livy\">Link</a></td><td>None</td><td></td></tr><tr><td>237</td><td>application_1738075734771_0238</td><td>pyspark</td><td>idle</td><td><a target=\"_blank\" href=\"http://ip-192-168-1-12.eu-central-1.compute.internal:20888/proxy/application_1738075734771_0238/\">Link</a></td><td><a target=\"_blank\" href=\"http://ip-192-168-1-100.eu-central-1.compute.internal:8042/node/containerlogs/container_1738075734771_0238_01_000001/livy\">Link</a></td><td>None</td><td></td></tr><tr><td>240</td><td>application_1738075734771_0241</td><td>pyspark</td><td>idle</td><td><a target=\"_blank\" href=\"http://ip-192-168-1-12.eu-central-1.compute.internal:20888/proxy/application_1738075734771_0241/\">Link</a></td><td><a target=\"_blank\" href=\"http://ip-192-168-1-228.eu-central-1.compute.internal:8042/node/containerlogs/container_1738075734771_0241_01_000001/livy\">Link</a></td><td>None</td><td></td></tr><tr><td>247</td><td>application_1738075734771_0248</td><td>pyspark</td><td>idle</td><td><a target=\"_blank\" href=\"http://ip-192-168-1-12.eu-central-1.compute.internal:20888/proxy/application_1738075734771_0248/\">Link</a></td><td><a target=\"_blank\" href=\"http://ip-192-168-1-210.eu-central-1.compute.internal:8042/node/containerlogs/container_1738075734771_0248_01_000002/livy\">Link</a></td><td>None</td><td>✔</td></tr></table>"
      ],
      "text/plain": [
       "<IPython.core.display.HTML object>"
      ]
     },
     "metadata": {},
     "output_type": "display_data"
    }
   ],
   "source": [
    "%%configure -f\n",
    "{\n",
    "    \"conf\": {\n",
    "        \"spark.executor.instances\": \"8\",\n",
    "        \"spark.executor.memory\": \"2g\",\n",
    "        \"spark.executor.cores\": \"1\",\n",
    "        \"spark.driver.memory\": \"2g\"\n",
    "    }\n",
    "}"
   ]
  },
  {
   "cell_type": "code",
   "execution_count": 8,
   "id": "5a374e0d",
   "metadata": {},
   "outputs": [
    {
     "data": {
      "application/vnd.jupyter.widget-view+json": {
       "model_id": "",
       "version_major": 2,
       "version_minor": 0
      },
      "text/plain": [
       "FloatProgress(value=0.0, bar_style='info', description='Progress:', layout=Layout(height='25px', width='50%'),…"
      ]
     },
     "metadata": {},
     "output_type": "display_data"
    },
    {
     "name": "stdout",
     "output_type": "stream",
     "text": [
      "Executor Instances: 8\n",
      "Executor Memory: 2g\n",
      "Executor Cores: 1"
     ]
    }
   ],
   "source": [
    "# Access configuration\n",
    "conf = spark.sparkContext.getConf()\n",
    "\n",
    "# Print relevant executor settings\n",
    "print(\"Executor Instances:\", conf.get(\"spark.executor.instances\"))\n",
    "print(\"Executor Memory:\", conf.get(\"spark.executor.memory\"))\n",
    "print(\"Executor Cores:\", conf.get(\"spark.executor.cores\"))"
   ]
  },
  {
   "cell_type": "code",
   "execution_count": 9,
   "id": "cefd2626",
   "metadata": {},
   "outputs": [
    {
     "data": {
      "application/vnd.jupyter.widget-view+json": {
       "model_id": "",
       "version_major": 2,
       "version_minor": 0
      },
      "text/plain": [
       "FloatProgress(value=0.0, bar_style='info', description='Progress:', layout=Layout(height='25px', width='50%'),…"
      ]
     },
     "metadata": {},
     "output_type": "display_data"
    },
    {
     "name": "stdout",
     "output_type": "stream",
     "text": [
      "+----------------+------------------+------+\n",
      "|DIVISION        |average_distance  |#     |\n",
      "+----------------+------------------+------+\n",
      "|HOLLYWOOD       |2.0762639601787183|224340|\n",
      "|VAN NUYS        |2.9533697428197803|210134|\n",
      "|SOUTHWEST       |2.1913988057808833|188901|\n",
      "|WILSHIRE        |2.592665532978764 |185996|\n",
      "|77TH STREET     |1.7165449719700954|171827|\n",
      "|OLYMPIC         |1.723603697178095 |170897|\n",
      "|NORTH HOLLYWOOD |2.643006094141564 |167854|\n",
      "|PACIFIC         |3.850070655307917 |161359|\n",
      "|CENTRAL         |0.9924764374568906|153871|\n",
      "|RAMPART         |1.5345341879190124|152736|\n",
      "|SOUTHEAST       |2.4218662158881807|152176|\n",
      "|WEST VALLEY     |3.03567121631407  |138643|\n",
      "|TOPANGA         |3.2969548417555536|138217|\n",
      "|FOOTHILL        |4.250921708424982 |134896|\n",
      "|HARBOR          |3.702561599356522 |126747|\n",
      "|HOLLENBECK      |2.680181237706819 |115837|\n",
      "|WEST LOS ANGELES|2.7924572890341226|115781|\n",
      "|NEWTON          |1.6346357397097429|111110|\n",
      "|NORTHEAST       |3.6236655246040876|108109|\n",
      "|MISSION         |3.6909426142785966|103355|\n",
      "+----------------+------------------+------+\n",
      "only showing top 20 rows\n",
      "\n",
      "Time taken: 108.89 seconds"
     ]
    }
   ],
   "source": [
    "# DF query 5 execution 8*(1/2)\n",
    "from pyspark.sql import functions as F\n",
    "from sedona.spark import *\n",
    "from pyspark.sql import SparkSession\n",
    "from pyspark.sql.types import StructField, StructType, IntegerType, DoubleType, StringType\n",
    "from pyspark.sql.functions import col\n",
    "from pyspark.sql.window import Window\n",
    "import time\n",
    "\n",
    "group_number = \"5\"\n",
    "base_s3_path = \"s3://groups-bucket-dblab-905418150721/group\"+group_number+\"/CrimeData/\"\n",
    "\n",
    "parquet_s3_path = base_s3_path + \"parquet/\"\n",
    "\n",
    "spark = SparkSession \\\n",
    "    .builder \\\n",
    "    .appName(\"DF query 5 execution 8*(1/2)\") \\\n",
    "    .getOrCreate()\n",
    "\n",
    "# Create sedona context\n",
    "sedona = SedonaContext.create(spark)\n",
    "\n",
    "start_time = time.time()\n",
    "\n",
    "la_police_stations_schema = StructType([StructField(\"X\", DoubleType(), False),\n",
    "    StructField(\"Y\", DoubleType(), False),\n",
    "    StructField(\"FID\", IntegerType(), False),\n",
    "    StructField(\"DIVISION\", StringType(), False),\n",
    "    StructField(\"LOCATION\", StringType(), False),\n",
    "    StructField(\"PREC\", IntegerType(), False)])\n",
    "\n",
    "la_police_stations_df = spark.read.format('csv') \\\n",
    "    .options(header='true') \\\n",
    "    .schema(la_police_stations_schema) \\\n",
    "    .load(\"s3://initial-notebook-data-bucket-dblab-905418150721/LA_Police_Stations.csv\")\n",
    "    \n",
    "la_police_stations_df = la_police_stations_df.withColumn(\"station_point\", ST_Point(\"X\", \"Y\"))\n",
    "\n",
    "#la_police_stations_df.printSchema()\n",
    "#la_police_stations_df.show(5)\n",
    "\n",
    "unified_crime_data_df = spark.read.parquet(parquet_s3_path)\n",
    "null_island_filtered = unified_crime_data_df.filter(~((col(\"lat\") == 0) & (col(\"lon\") == 0))) \\\n",
    "    .withColumn(\"crime_point\", ST_Point(\"lon\", \"lat\"))\n",
    "\n",
    "#null_island_filtered.show(5)\n",
    "#null_island_filtered.printSchema()\n",
    "\n",
    "unified_df = null_island_filtered.crossJoin(la_police_stations_df)\n",
    "unified_df = unified_df.select(\n",
    "    \"dr_no\",\n",
    "    \"station_point\",  # from la_police_stations_df\n",
    "    \"crime_point\",    # from null_island_filtered\n",
    "    \"DIVISION\"        # from la_police_stations_df\n",
    ")\n",
    "#unified_df.show(5)\n",
    "\n",
    "unified_df = unified_df.withColumn(\"distance_km\", ST_DistanceSphere(\"station_point\", \"crime_point\")/1000)\n",
    "#unified_df.show(22)\n",
    "\n",
    "unified_df_min_distance = unified_df \\\n",
    "    .withColumn(\"row_num\", F.row_number().over(Window.partitionBy(\"dr_no\").orderBy(\"distance_km\"))) \\\n",
    "    .filter(F.col(\"row_num\") == 1) \\\n",
    "    .drop(\"row_num\")\n",
    "\n",
    "#unified_df_min_distance.show(5)\n",
    "#unified_df_min_distance.filter(F.col(\"dr_no\") == 1307355).show(5)\n",
    "\n",
    "division_summary_df = unified_df_min_distance \\\n",
    "    .groupBy(\"DIVISION\") \\\n",
    "    .agg(\n",
    "        F.avg(\"distance_km\").alias(\"average_distance\"),\n",
    "        F.count(\"dr_no\").alias(\"#\")\n",
    "    ) \\\n",
    "    .orderBy(F.col(\"#\").desc())  # Sort by the count column in descending order\n",
    "\n",
    "# Show the resulting DataFrame\n",
    "division_summary_df.show(truncate=False)\n",
    "\n",
    "end_time = time.time()\n",
    "elapsed_time = end_time - start_time\n",
    "print(f\"Time taken: {elapsed_time:.2f} seconds\")"
   ]
  },
  {
   "cell_type": "code",
   "execution_count": null,
   "id": "6950f165",
   "metadata": {},
   "outputs": [],
   "source": []
  }
 ],
 "metadata": {
  "kernelspec": {
   "display_name": "Sparkmagic (PySpark)",
   "language": "python",
   "name": "pysparkkernel"
  },
  "language_info": {
   "codemirror_mode": {
    "name": "python",
    "version": 3
   },
   "file_extension": ".py",
   "mimetype": "text/x-python",
   "name": "pyspark",
   "pygments_lexer": "python3"
  }
 },
 "nbformat": 4,
 "nbformat_minor": 5
}
