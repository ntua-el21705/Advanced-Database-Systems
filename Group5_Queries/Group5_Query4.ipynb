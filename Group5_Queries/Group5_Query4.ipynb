{
 "cells": [
  {
   "cell_type": "markdown",
   "id": "d7cba95d-2e2f-47fc-b854-2615c78bf3eb",
   "metadata": {},
   "source": [
    "#### SPARK CONFIGURATION 1"
   ]
  },
  {
   "cell_type": "code",
   "execution_count": 21,
   "id": "d987d44a-ac90-42e3-8861-41563221c29a",
   "metadata": {
    "tags": []
   },
   "outputs": [
    {
     "name": "stdout",
     "output_type": "stream",
     "text": [
      "Starting Spark application\n"
     ]
    },
    {
     "data": {
      "text/html": [
       "<table>\n",
       "<tr><th>ID</th><th>YARN Application ID</th><th>Kind</th><th>State</th><th>Spark UI</th><th>Driver log</th><th>User</th><th>Current session?</th></tr><tr><td>4101</td><td>application_1732639283265_4041</td><td>pyspark</td><td>idle</td><td><a target=\"_blank\" href=\"http://ip-192-168-1-36.eu-central-1.compute.internal:20888/proxy/application_1732639283265_4041/\">Link</a></td><td><a target=\"_blank\" href=\"http://ip-192-168-1-119.eu-central-1.compute.internal:8042/node/containerlogs/container_1732639283265_4041_01_000001/livy\">Link</a></td><td>None</td><td>✔</td></tr></table>"
      ],
      "text/plain": [
       "<IPython.core.display.HTML object>"
      ]
     },
     "metadata": {},
     "output_type": "display_data"
    },
    {
     "data": {
      "application/vnd.jupyter.widget-view+json": {
       "model_id": "",
       "version_major": 2,
       "version_minor": 0
      },
      "text/plain": [
       "FloatProgress(value=0.0, bar_style='info', description='Progress:', layout=Layout(height='25px', width='50%'),…"
      ]
     },
     "metadata": {},
     "output_type": "display_data"
    },
    {
     "name": "stdout",
     "output_type": "stream",
     "text": [
      "SparkSession available as 'spark'.\n"
     ]
    },
    {
     "data": {
      "text/html": [
       "Current session configs: <tt>{'conf': {'spark.sql.catalog.spark_catalog.type': 'hive', 'spark.executor.instances': '2', 'spark.executor.memory': '2g', 'spark.executor.cores': '1', 'spark.driver.memory': '2g'}, 'kind': 'pyspark'}</tt><br>"
      ],
      "text/plain": [
       "<IPython.core.display.HTML object>"
      ]
     },
     "metadata": {},
     "output_type": "display_data"
    },
    {
     "data": {
      "text/html": [
       "<table>\n",
       "<tr><th>ID</th><th>YARN Application ID</th><th>Kind</th><th>State</th><th>Spark UI</th><th>Driver log</th><th>User</th><th>Current session?</th></tr><tr><td>4080</td><td>application_1732639283265_4020</td><td>pyspark</td><td>idle</td><td><a target=\"_blank\" href=\"http://ip-192-168-1-36.eu-central-1.compute.internal:20888/proxy/application_1732639283265_4020/\">Link</a></td><td><a target=\"_blank\" href=\"http://ip-192-168-1-16.eu-central-1.compute.internal:8042/node/containerlogs/container_1732639283265_4020_01_000001/livy\">Link</a></td><td>None</td><td></td></tr><tr><td>4084</td><td>application_1732639283265_4024</td><td>pyspark</td><td>idle</td><td><a target=\"_blank\" href=\"http://ip-192-168-1-36.eu-central-1.compute.internal:20888/proxy/application_1732639283265_4024/\">Link</a></td><td><a target=\"_blank\" href=\"http://ip-192-168-1-112.eu-central-1.compute.internal:8042/node/containerlogs/container_1732639283265_4024_01_000001/livy\">Link</a></td><td>None</td><td></td></tr><tr><td>4085</td><td>application_1732639283265_4025</td><td>pyspark</td><td>idle</td><td><a target=\"_blank\" href=\"http://ip-192-168-1-36.eu-central-1.compute.internal:20888/proxy/application_1732639283265_4025/\">Link</a></td><td><a target=\"_blank\" href=\"http://ip-192-168-1-227.eu-central-1.compute.internal:8042/node/containerlogs/container_1732639283265_4025_01_000002/livy\">Link</a></td><td>None</td><td></td></tr><tr><td>4086</td><td>application_1732639283265_4026</td><td>pyspark</td><td>idle</td><td><a target=\"_blank\" href=\"http://ip-192-168-1-36.eu-central-1.compute.internal:20888/proxy/application_1732639283265_4026/\">Link</a></td><td><a target=\"_blank\" href=\"http://ip-192-168-1-247.eu-central-1.compute.internal:8042/node/containerlogs/container_1732639283265_4026_01_000001/livy\">Link</a></td><td>None</td><td></td></tr><tr><td>4087</td><td>application_1732639283265_4027</td><td>pyspark</td><td>idle</td><td><a target=\"_blank\" href=\"http://ip-192-168-1-36.eu-central-1.compute.internal:20888/proxy/application_1732639283265_4027/\">Link</a></td><td><a target=\"_blank\" href=\"http://ip-192-168-1-91.eu-central-1.compute.internal:8042/node/containerlogs/container_1732639283265_4027_01_000001/livy\">Link</a></td><td>None</td><td></td></tr><tr><td>4093</td><td>application_1732639283265_4033</td><td>pyspark</td><td>idle</td><td><a target=\"_blank\" href=\"http://ip-192-168-1-36.eu-central-1.compute.internal:20888/proxy/application_1732639283265_4033/\">Link</a></td><td><a target=\"_blank\" href=\"http://ip-192-168-1-174.eu-central-1.compute.internal:8042/node/containerlogs/container_1732639283265_4033_01_000001/livy\">Link</a></td><td>None</td><td></td></tr><tr><td>4094</td><td>application_1732639283265_4034</td><td>pyspark</td><td>idle</td><td><a target=\"_blank\" href=\"http://ip-192-168-1-36.eu-central-1.compute.internal:20888/proxy/application_1732639283265_4034/\">Link</a></td><td><a target=\"_blank\" href=\"http://ip-192-168-1-166.eu-central-1.compute.internal:8042/node/containerlogs/container_1732639283265_4034_01_000002/livy\">Link</a></td><td>None</td><td></td></tr><tr><td>4096</td><td>application_1732639283265_4036</td><td>pyspark</td><td>idle</td><td><a target=\"_blank\" href=\"http://ip-192-168-1-36.eu-central-1.compute.internal:20888/proxy/application_1732639283265_4036/\">Link</a></td><td><a target=\"_blank\" href=\"http://ip-192-168-1-227.eu-central-1.compute.internal:8042/node/containerlogs/container_1732639283265_4036_01_000002/livy\">Link</a></td><td>None</td><td></td></tr><tr><td>4098</td><td>application_1732639283265_4038</td><td>pyspark</td><td>idle</td><td><a target=\"_blank\" href=\"http://ip-192-168-1-36.eu-central-1.compute.internal:20888/proxy/application_1732639283265_4038/\">Link</a></td><td><a target=\"_blank\" href=\"http://ip-192-168-1-166.eu-central-1.compute.internal:8042/node/containerlogs/container_1732639283265_4038_01_000001/livy\">Link</a></td><td>None</td><td></td></tr><tr><td>4099</td><td>application_1732639283265_4039</td><td>pyspark</td><td>idle</td><td><a target=\"_blank\" href=\"http://ip-192-168-1-36.eu-central-1.compute.internal:20888/proxy/application_1732639283265_4039/\">Link</a></td><td><a target=\"_blank\" href=\"http://ip-192-168-1-16.eu-central-1.compute.internal:8042/node/containerlogs/container_1732639283265_4039_01_000001/livy\">Link</a></td><td>None</td><td></td></tr><tr><td>4101</td><td>application_1732639283265_4041</td><td>pyspark</td><td>idle</td><td><a target=\"_blank\" href=\"http://ip-192-168-1-36.eu-central-1.compute.internal:20888/proxy/application_1732639283265_4041/\">Link</a></td><td><a target=\"_blank\" href=\"http://ip-192-168-1-119.eu-central-1.compute.internal:8042/node/containerlogs/container_1732639283265_4041_01_000001/livy\">Link</a></td><td>None</td><td>✔</td></tr></table>"
      ],
      "text/plain": [
       "<IPython.core.display.HTML object>"
      ]
     },
     "metadata": {},
     "output_type": "display_data"
    }
   ],
   "source": [
    "%%configure -f\n",
    "{\n",
    "    \"conf\": {\n",
    "        \"spark.executor.instances\": \"2\",\n",
    "        \"spark.executor.memory\": \"2g\",\n",
    "        \"spark.executor.cores\": \"1\",\n",
    "        \"spark.driver.memory\": \"2g\"\n",
    "    }\n",
    "}"
   ]
  },
  {
   "cell_type": "code",
   "execution_count": 22,
   "id": "a40764fc-2122-49c2-8199-4a5aedacd51a",
   "metadata": {
    "tags": []
   },
   "outputs": [
    {
     "data": {
      "application/vnd.jupyter.widget-view+json": {
       "model_id": "",
       "version_major": 2,
       "version_minor": 0
      },
      "text/plain": [
       "FloatProgress(value=0.0, bar_style='info', description='Progress:', layout=Layout(height='25px', width='50%'),…"
      ]
     },
     "metadata": {},
     "output_type": "display_data"
    },
    {
     "name": "stdout",
     "output_type": "stream",
     "text": [
      "Executor Instances: 2\n",
      "Executor Memory: 2g\n",
      "Executor Cores: 1"
     ]
    }
   ],
   "source": [
    "# Access configuration\n",
    "conf = spark.sparkContext.getConf()\n",
    "\n",
    "# Print relevant executor settings\n",
    "print(\"Executor Instances:\", conf.get(\"spark.executor.instances\"))\n",
    "print(\"Executor Memory:\", conf.get(\"spark.executor.memory\"))\n",
    "print(\"Executor Cores:\", conf.get(\"spark.executor.cores\"))"
   ]
  },
  {
   "cell_type": "markdown",
   "id": "75d669fc-b4fe-4093-ab20-421ad70095e1",
   "metadata": {},
   "source": [
    "## QUERY 4: CRIME & RACE DESCRIPTION FOR 2015 - CONFIG 1"
   ]
  },
  {
   "cell_type": "code",
   "execution_count": 24,
   "id": "0da70a84-2906-49b9-8841-20ed02bd0d0b",
   "metadata": {
    "tags": []
   },
   "outputs": [
    {
     "data": {
      "application/vnd.jupyter.widget-view+json": {
       "model_id": "",
       "version_major": 2,
       "version_minor": 0
      },
      "text/plain": [
       "FloatProgress(value=0.0, bar_style='info', description='Progress:', layout=Layout(height='25px', width='50%'),…"
      ]
     },
     "metadata": {},
     "output_type": "display_data"
    },
    {
     "name": "stdout",
     "output_type": "stream",
     "text": [
      "Execution time: 46.657 seconds\n",
      "QUERY 4 CONFIG_1 (1core/2 GB)\n",
      "Race Description of Crimes committed in the LA Areas with the Highest Median Income per Person (2015):\n",
      "+-----------------+-----+\n",
      "|vict_descent_full|count|\n",
      "+-----------------+-----+\n",
      "+-----------------+-----+\n",
      "\n",
      "Race Description of Crimes committed in the LA Areas with the Lowest Median Income per Person (2015):\n",
      "+----------------------+-----+\n",
      "|vict_descent_full     |count|\n",
      "+----------------------+-----+\n",
      "|Hispanic/Latin/Mexican|2878 |\n",
      "|Unknown               |254  |\n",
      "|White                 |212  |\n",
      "|Black                 |123  |\n",
      "|Other                 |70   |\n",
      "|Other Asian           |32   |\n",
      "|Chinese               |3    |\n",
      "|Filipino              |2    |\n",
      "|Pacific Islander      |2    |\n",
      "+----------------------+-----+"
     ]
    }
   ],
   "source": [
    "from pyspark.sql import SparkSession\n",
    "from pyspark.sql.functions import col, expr, when, year, to_timestamp\n",
    "from pyspark.sql import functions as F\n",
    "import time\n",
    "\n",
    "spark = SparkSession.builder \\\n",
    "    .appName(\"Crime Data Analysis with Race and Region\") \\\n",
    "    .getOrCreate()\n",
    "\n",
    "# Start timing\n",
    "start_time = time.time()\n",
    "\n",
    "# Load Crime Data\n",
    "crime_data_path = \"s3://initial-notebook-data-bucket-dblab-905418150721/CrimeData/Crime_Data_from_2010_to_2019_20241101.csv\"\n",
    "crime_df = spark.read.csv(crime_data_path, header=True, inferSchema=True)\n",
    "\n",
    "crime_df = crime_df.select(\n",
    "    col(\"LAT\").alias(\"latitude\"),\n",
    "    col(\"LON\").alias(\"longitude\"),\n",
    "    col(\"Vict Descent\").alias(\"vict_descent\"),\n",
    "    col(\"DATE OCC\").alias(\"date_occ\")  # Επιλογή της στήλης DATE OCC για φιλτράρισμα\n",
    ")\n",
    "\n",
    "# Convert DATE OCC to Timestamp type\n",
    "crime_df = crime_df.withColumn(\"date_occ\", to_timestamp(col(\"date_occ\"), \"MM/dd/yyyy hh:mm:ss a\"))\n",
    "\n",
    "# Filter for 2015\n",
    "crime_df = crime_df.filter(year(col(\"date_occ\")) == 2015)\n",
    "\n",
    "\n",
    "crime_df = crime_df.withColumn(\"geom\", expr(\"ST_Point(longitude, latitude)\"))\n",
    "\n",
    "# Vict Descent CSV load\n",
    "csv_path = \"s3://initial-notebook-data-bucket-dblab-905418150721/RE_codes.csv\"\n",
    "vict_desc_df = spark.read.csv(csv_path, header=True, inferSchema=True)\n",
    "\n",
    "vict_desc_df = vict_desc_df.select(\n",
    "    col(\"Vict Descent\").alias(\"vict_descent_code\"),\n",
    "    col(\"Vict Descent Full\").alias(\"vict_descent_full\")\n",
    ")\n",
    "\n",
    "# Load GeoJSON and group for Areas\n",
    "geojson_path = \"s3://initial-notebook-data-bucket-dblab-905418150721/2010_Census_Blocks.geojson\"\n",
    "blocks_df = spark.read.format(\"geojson\") \\\n",
    "    .option(\"multiLine\", \"true\").load(geojson_path) \\\n",
    "    .selectExpr(\"explode(features) as features\") \\\n",
    "    .select(\"features.*\")\n",
    "\n",
    "flattened_df = blocks_df.select(\n",
    "    [col(f\"properties.{col_name}\").alias(col_name) for col_name in blocks_df.schema[\"properties\"].dataType.fieldNames()] + [\"geometry\"]\n",
    ").drop(\"properties\").drop(\"type\")\n",
    "\n",
    "# Group (group_comm_1 και group_comm_2)\n",
    "group_comm_1_areas = [\"Malibu\", \"Manhattan Beach\", \"Hermosa Beach\"]\n",
    "group_comm_2_areas = [\"East Los Angeles\", \"Lynwood\", \"Boyle Heights\"]\n",
    "\n",
    "grouped_df = flattened_df.withColumn(\n",
    "    \"group_comm\",\n",
    "    when(col(\"COMM\").isin(group_comm_1_areas), \"group_comm_1\")\n",
    "    .when(col(\"COMM\").isin(group_comm_2_areas), \"group_comm_2\")\n",
    "    .otherwise(\"other\")\n",
    ")\n",
    "\n",
    "#  group_comm and geodata Join\n",
    "grouped_blocks_df = grouped_df.filter(col(\"group_comm\").isin(\"group_comm_1\", \"group_comm_2\")) \\\n",
    "    .groupBy(\"group_comm\") \\\n",
    "    .agg(\n",
    "        expr(\"ST_Union_Aggr(geometry)\").alias(\"unified_geometry\")\n",
    "    )\n",
    "\n",
    "# join  crime_df and grouped_blocks_df\n",
    "join_condition = expr(\"ST_Within(geom, unified_geometry)\")\n",
    "joined_df = crime_df.join(grouped_blocks_df, join_condition, \"inner\")\n",
    "\n",
    "# Join RE_codes for \"Vict Descent\"\n",
    "final_df = joined_df.join(vict_desc_df, joined_df.vict_descent == vict_desc_df.vict_descent_code, \"inner\")\n",
    "\n",
    "# Group and count group_comm και Vict Descent\n",
    "crime_counts = final_df.groupBy(\"group_comm\", \"vict_descent_full\") \\\n",
    "    .count() \\\n",
    "    .orderBy(\"count\", ascending=False)\n",
    "\n",
    "# DataFrames for every group_comm\n",
    "group_comm_1_df = crime_counts.filter(col(\"group_comm\") == \"group_comm_1\")\n",
    "group_comm_2_df = crime_counts.filter(col(\"group_comm\") == \"group_comm_2\")\n",
    "\n",
    "# End timing\n",
    "end_time = time.time()\n",
    "print(f\"Execution time: {round(end_time - start_time, 3)} seconds\")\n",
    "\n",
    "# Prints\n",
    "print(\"QUERY 4 CONFIG_1 (1core/2 GB)\")\n",
    "\n",
    "print(\"Race Description of Crimes committed in the LA Areas with the Highest Median Income per Person (2015):\")\n",
    "group_comm_1_df.drop(\"group_comm\").show(truncate=False)\n",
    "\n",
    "print(\"Race Description of Crimes committed in the LA Areas with the Lowest Median Income per Person (2015):\")\n",
    "group_comm_2_df.drop(\"group_comm\").show(truncate=False)\n"
   ]
  },
  {
   "cell_type": "markdown",
   "id": "e898f552-1bc2-4acc-8dc1-1e2f0d7f1894",
   "metadata": {},
   "source": [
    "#### SPARK CONFIGURATION 2"
   ]
  },
  {
   "cell_type": "code",
   "execution_count": 25,
   "id": "f725c8e8-00cf-4129-8465-747d24cfdc5d",
   "metadata": {
    "tags": []
   },
   "outputs": [
    {
     "name": "stdout",
     "output_type": "stream",
     "text": [
      "Starting Spark application\n"
     ]
    },
    {
     "data": {
      "text/html": [
       "<table>\n",
       "<tr><th>ID</th><th>YARN Application ID</th><th>Kind</th><th>State</th><th>Spark UI</th><th>Driver log</th><th>User</th><th>Current session?</th></tr><tr><td>4102</td><td>application_1732639283265_4042</td><td>pyspark</td><td>idle</td><td><a target=\"_blank\" href=\"http://ip-192-168-1-36.eu-central-1.compute.internal:20888/proxy/application_1732639283265_4042/\">Link</a></td><td><a target=\"_blank\" href=\"http://ip-192-168-1-80.eu-central-1.compute.internal:8042/node/containerlogs/container_1732639283265_4042_01_000001/livy\">Link</a></td><td>None</td><td>✔</td></tr></table>"
      ],
      "text/plain": [
       "<IPython.core.display.HTML object>"
      ]
     },
     "metadata": {},
     "output_type": "display_data"
    },
    {
     "data": {
      "application/vnd.jupyter.widget-view+json": {
       "model_id": "",
       "version_major": 2,
       "version_minor": 0
      },
      "text/plain": [
       "FloatProgress(value=0.0, bar_style='info', description='Progress:', layout=Layout(height='25px', width='50%'),…"
      ]
     },
     "metadata": {},
     "output_type": "display_data"
    },
    {
     "name": "stdout",
     "output_type": "stream",
     "text": [
      "SparkSession available as 'spark'.\n"
     ]
    },
    {
     "data": {
      "text/html": [
       "Current session configs: <tt>{'conf': {'spark.sql.catalog.spark_catalog.type': 'hive', 'spark.executor.instances': '2', 'spark.executor.memory': '4g', 'spark.executor.cores': '2', 'spark.driver.memory': '2g'}, 'kind': 'pyspark'}</tt><br>"
      ],
      "text/plain": [
       "<IPython.core.display.HTML object>"
      ]
     },
     "metadata": {},
     "output_type": "display_data"
    },
    {
     "data": {
      "text/html": [
       "<table>\n",
       "<tr><th>ID</th><th>YARN Application ID</th><th>Kind</th><th>State</th><th>Spark UI</th><th>Driver log</th><th>User</th><th>Current session?</th></tr><tr><td>4080</td><td>application_1732639283265_4020</td><td>pyspark</td><td>idle</td><td><a target=\"_blank\" href=\"http://ip-192-168-1-36.eu-central-1.compute.internal:20888/proxy/application_1732639283265_4020/\">Link</a></td><td><a target=\"_blank\" href=\"http://ip-192-168-1-16.eu-central-1.compute.internal:8042/node/containerlogs/container_1732639283265_4020_01_000001/livy\">Link</a></td><td>None</td><td></td></tr><tr><td>4084</td><td>application_1732639283265_4024</td><td>pyspark</td><td>idle</td><td><a target=\"_blank\" href=\"http://ip-192-168-1-36.eu-central-1.compute.internal:20888/proxy/application_1732639283265_4024/\">Link</a></td><td><a target=\"_blank\" href=\"http://ip-192-168-1-112.eu-central-1.compute.internal:8042/node/containerlogs/container_1732639283265_4024_01_000001/livy\">Link</a></td><td>None</td><td></td></tr><tr><td>4085</td><td>application_1732639283265_4025</td><td>pyspark</td><td>idle</td><td><a target=\"_blank\" href=\"http://ip-192-168-1-36.eu-central-1.compute.internal:20888/proxy/application_1732639283265_4025/\">Link</a></td><td><a target=\"_blank\" href=\"http://ip-192-168-1-227.eu-central-1.compute.internal:8042/node/containerlogs/container_1732639283265_4025_01_000002/livy\">Link</a></td><td>None</td><td></td></tr><tr><td>4086</td><td>application_1732639283265_4026</td><td>pyspark</td><td>idle</td><td><a target=\"_blank\" href=\"http://ip-192-168-1-36.eu-central-1.compute.internal:20888/proxy/application_1732639283265_4026/\">Link</a></td><td><a target=\"_blank\" href=\"http://ip-192-168-1-247.eu-central-1.compute.internal:8042/node/containerlogs/container_1732639283265_4026_01_000001/livy\">Link</a></td><td>None</td><td></td></tr><tr><td>4087</td><td>application_1732639283265_4027</td><td>pyspark</td><td>idle</td><td><a target=\"_blank\" href=\"http://ip-192-168-1-36.eu-central-1.compute.internal:20888/proxy/application_1732639283265_4027/\">Link</a></td><td><a target=\"_blank\" href=\"http://ip-192-168-1-91.eu-central-1.compute.internal:8042/node/containerlogs/container_1732639283265_4027_01_000001/livy\">Link</a></td><td>None</td><td></td></tr><tr><td>4093</td><td>application_1732639283265_4033</td><td>pyspark</td><td>idle</td><td><a target=\"_blank\" href=\"http://ip-192-168-1-36.eu-central-1.compute.internal:20888/proxy/application_1732639283265_4033/\">Link</a></td><td><a target=\"_blank\" href=\"http://ip-192-168-1-174.eu-central-1.compute.internal:8042/node/containerlogs/container_1732639283265_4033_01_000001/livy\">Link</a></td><td>None</td><td></td></tr><tr><td>4094</td><td>application_1732639283265_4034</td><td>pyspark</td><td>idle</td><td><a target=\"_blank\" href=\"http://ip-192-168-1-36.eu-central-1.compute.internal:20888/proxy/application_1732639283265_4034/\">Link</a></td><td><a target=\"_blank\" href=\"http://ip-192-168-1-166.eu-central-1.compute.internal:8042/node/containerlogs/container_1732639283265_4034_01_000002/livy\">Link</a></td><td>None</td><td></td></tr><tr><td>4096</td><td>application_1732639283265_4036</td><td>pyspark</td><td>idle</td><td><a target=\"_blank\" href=\"http://ip-192-168-1-36.eu-central-1.compute.internal:20888/proxy/application_1732639283265_4036/\">Link</a></td><td><a target=\"_blank\" href=\"http://ip-192-168-1-227.eu-central-1.compute.internal:8042/node/containerlogs/container_1732639283265_4036_01_000002/livy\">Link</a></td><td>None</td><td></td></tr><tr><td>4098</td><td>application_1732639283265_4038</td><td>pyspark</td><td>idle</td><td><a target=\"_blank\" href=\"http://ip-192-168-1-36.eu-central-1.compute.internal:20888/proxy/application_1732639283265_4038/\">Link</a></td><td><a target=\"_blank\" href=\"http://ip-192-168-1-166.eu-central-1.compute.internal:8042/node/containerlogs/container_1732639283265_4038_01_000001/livy\">Link</a></td><td>None</td><td></td></tr><tr><td>4099</td><td>application_1732639283265_4039</td><td>pyspark</td><td>idle</td><td><a target=\"_blank\" href=\"http://ip-192-168-1-36.eu-central-1.compute.internal:20888/proxy/application_1732639283265_4039/\">Link</a></td><td><a target=\"_blank\" href=\"http://ip-192-168-1-16.eu-central-1.compute.internal:8042/node/containerlogs/container_1732639283265_4039_01_000001/livy\">Link</a></td><td>None</td><td></td></tr><tr><td>4102</td><td>application_1732639283265_4042</td><td>pyspark</td><td>idle</td><td><a target=\"_blank\" href=\"http://ip-192-168-1-36.eu-central-1.compute.internal:20888/proxy/application_1732639283265_4042/\">Link</a></td><td><a target=\"_blank\" href=\"http://ip-192-168-1-80.eu-central-1.compute.internal:8042/node/containerlogs/container_1732639283265_4042_01_000001/livy\">Link</a></td><td>None</td><td>✔</td></tr></table>"
      ],
      "text/plain": [
       "<IPython.core.display.HTML object>"
      ]
     },
     "metadata": {},
     "output_type": "display_data"
    }
   ],
   "source": [
    "%%configure -f\n",
    "{\n",
    "    \"conf\": {\n",
    "        \"spark.executor.instances\": \"2\",\n",
    "        \"spark.executor.memory\": \"4g\",\n",
    "        \"spark.executor.cores\": \"2\",\n",
    "        \"spark.driver.memory\": \"2g\"\n",
    "    }\n",
    "}"
   ]
  },
  {
   "cell_type": "code",
   "execution_count": 26,
   "id": "6c123f99-9cf1-4d1c-886b-c70f9d00678e",
   "metadata": {
    "tags": []
   },
   "outputs": [
    {
     "data": {
      "application/vnd.jupyter.widget-view+json": {
       "model_id": "",
       "version_major": 2,
       "version_minor": 0
      },
      "text/plain": [
       "FloatProgress(value=0.0, bar_style='info', description='Progress:', layout=Layout(height='25px', width='50%'),…"
      ]
     },
     "metadata": {},
     "output_type": "display_data"
    },
    {
     "name": "stdout",
     "output_type": "stream",
     "text": [
      "Executor Instances: 2\n",
      "Executor Memory: 4g\n",
      "Executor Cores: 2"
     ]
    }
   ],
   "source": [
    "# Access configuration\n",
    "conf = spark.sparkContext.getConf()\n",
    "\n",
    "# Print relevant executor settings\n",
    "print(\"Executor Instances:\", conf.get(\"spark.executor.instances\"))\n",
    "print(\"Executor Memory:\", conf.get(\"spark.executor.memory\"))\n",
    "print(\"Executor Cores:\", conf.get(\"spark.executor.cores\"))"
   ]
  },
  {
   "cell_type": "markdown",
   "id": "99334df4-00fc-465c-ba02-c3d79220a8a5",
   "metadata": {},
   "source": [
    "## QUERY 4: CRIME & RACE DESCRIPTION FOR 2015 - CONFIG 2"
   ]
  },
  {
   "cell_type": "code",
   "execution_count": 27,
   "id": "46699ac6-3e2f-4d71-9612-fde196f5ecde",
   "metadata": {
    "tags": []
   },
   "outputs": [
    {
     "data": {
      "application/vnd.jupyter.widget-view+json": {
       "model_id": "",
       "version_major": 2,
       "version_minor": 0
      },
      "text/plain": [
       "FloatProgress(value=0.0, bar_style='info', description='Progress:', layout=Layout(height='25px', width='50%'),…"
      ]
     },
     "metadata": {},
     "output_type": "display_data"
    },
    {
     "name": "stdout",
     "output_type": "stream",
     "text": [
      "Execution time: 18.875 seconds\n",
      "QUERY 4 CONFIG_2 (2core/2 GB)\n",
      "Race Description of Crimes committed in the LA Areas with the Highest Median Income per Person (2015):\n",
      "+-----------------+-----+\n",
      "|vict_descent_full|count|\n",
      "+-----------------+-----+\n",
      "+-----------------+-----+\n",
      "\n",
      "Race Description of Crimes committed in the LA Areas with the Lowest Median Income per Person (2015):\n",
      "+----------------------+-----+\n",
      "|vict_descent_full     |count|\n",
      "+----------------------+-----+\n",
      "|Hispanic/Latin/Mexican|2878 |\n",
      "|Unknown               |254  |\n",
      "|White                 |212  |\n",
      "|Black                 |123  |\n",
      "|Other                 |70   |\n",
      "|Other Asian           |32   |\n",
      "|Chinese               |3    |\n",
      "|Pacific Islander      |2    |\n",
      "|Filipino              |2    |\n",
      "+----------------------+-----+"
     ]
    }
   ],
   "source": [
    "from pyspark.sql import SparkSession\n",
    "from pyspark.sql.functions import col, expr, when, year, to_timestamp\n",
    "from pyspark.sql import functions as F\n",
    "import time\n",
    "\n",
    "spark = SparkSession.builder \\\n",
    "    .appName(\"Crime Data Analysis with Race and Region\") \\\n",
    "    .getOrCreate()\n",
    "\n",
    "# Start timing\n",
    "start_time = time.time()\n",
    "\n",
    "# Load Crime Data\n",
    "crime_data_path = \"s3://initial-notebook-data-bucket-dblab-905418150721/CrimeData/Crime_Data_from_2010_to_2019_20241101.csv\"\n",
    "crime_df = spark.read.csv(crime_data_path, header=True, inferSchema=True)\n",
    "\n",
    "crime_df = crime_df.select(\n",
    "    col(\"LAT\").alias(\"latitude\"),\n",
    "    col(\"LON\").alias(\"longitude\"),\n",
    "    col(\"Vict Descent\").alias(\"vict_descent\"),\n",
    "    col(\"DATE OCC\").alias(\"date_occ\")  # Επιλογή της στήλης DATE OCC για φιλτράρισμα\n",
    ")\n",
    "\n",
    "# Convert DATE OCC to Timestamp type\n",
    "crime_df = crime_df.withColumn(\"date_occ\", to_timestamp(col(\"date_occ\"), \"MM/dd/yyyy hh:mm:ss a\"))\n",
    "\n",
    "# Filter for 2015\n",
    "crime_df = crime_df.filter(year(col(\"date_occ\")) == 2015)\n",
    "\n",
    "\n",
    "crime_df = crime_df.withColumn(\"geom\", expr(\"ST_Point(longitude, latitude)\"))\n",
    "\n",
    "# Vict Descent CSV load\n",
    "csv_path = \"s3://initial-notebook-data-bucket-dblab-905418150721/RE_codes.csv\"\n",
    "vict_desc_df = spark.read.csv(csv_path, header=True, inferSchema=True)\n",
    "\n",
    "vict_desc_df = vict_desc_df.select(\n",
    "    col(\"Vict Descent\").alias(\"vict_descent_code\"),\n",
    "    col(\"Vict Descent Full\").alias(\"vict_descent_full\")\n",
    ")\n",
    "\n",
    "# Load GeoJSON and group for Areas\n",
    "geojson_path = \"s3://initial-notebook-data-bucket-dblab-905418150721/2010_Census_Blocks.geojson\"\n",
    "blocks_df = spark.read.format(\"geojson\") \\\n",
    "    .option(\"multiLine\", \"true\").load(geojson_path) \\\n",
    "    .selectExpr(\"explode(features) as features\") \\\n",
    "    .select(\"features.*\")\n",
    "\n",
    "flattened_df = blocks_df.select(\n",
    "    [col(f\"properties.{col_name}\").alias(col_name) for col_name in blocks_df.schema[\"properties\"].dataType.fieldNames()] + [\"geometry\"]\n",
    ").drop(\"properties\").drop(\"type\")\n",
    "\n",
    "# Group (group_comm_1 και group_comm_2)\n",
    "group_comm_1_areas = [\"Malibu\", \"Manhattan Beach\", \"Hermosa Beach\"]\n",
    "group_comm_2_areas = [\"East Los Angeles\", \"Lynwood\", \"Boyle Heights\"]\n",
    "\n",
    "grouped_df = flattened_df.withColumn(\n",
    "    \"group_comm\",\n",
    "    when(col(\"COMM\").isin(group_comm_1_areas), \"group_comm_1\")\n",
    "    .when(col(\"COMM\").isin(group_comm_2_areas), \"group_comm_2\")\n",
    "    .otherwise(\"other\")\n",
    ")\n",
    "\n",
    "#  group_comm and geodata Join\n",
    "grouped_blocks_df = grouped_df.filter(col(\"group_comm\").isin(\"group_comm_1\", \"group_comm_2\")) \\\n",
    "    .groupBy(\"group_comm\") \\\n",
    "    .agg(\n",
    "        expr(\"ST_Union_Aggr(geometry)\").alias(\"unified_geometry\")\n",
    "    )\n",
    "\n",
    "# join  crime_df and grouped_blocks_df\n",
    "join_condition = expr(\"ST_Within(geom, unified_geometry)\")\n",
    "joined_df = crime_df.join(grouped_blocks_df, join_condition, \"inner\")\n",
    "\n",
    "# Join RE_codes for \"Vict Descent\"\n",
    "final_df = joined_df.join(vict_desc_df, joined_df.vict_descent == vict_desc_df.vict_descent_code, \"inner\")\n",
    "\n",
    "# Group and count group_comm και Vict Descent\n",
    "crime_counts = final_df.groupBy(\"group_comm\", \"vict_descent_full\") \\\n",
    "    .count() \\\n",
    "    .orderBy(\"count\", ascending=False)\n",
    "\n",
    "# DataFrames for every group_comm\n",
    "group_comm_1_df = crime_counts.filter(col(\"group_comm\") == \"group_comm_1\")\n",
    "group_comm_2_df = crime_counts.filter(col(\"group_comm\") == \"group_comm_2\")\n",
    "\n",
    "# End timing\n",
    "end_time = time.time()\n",
    "print(f\"Execution time: {round(end_time - start_time, 3)} seconds\")\n",
    "\n",
    "# Prints\n",
    "print(\"QUERY 4 CONFIG_2 (2core/2 GB)\")\n",
    "\n",
    "print(\"Race Description of Crimes committed in the LA Areas with the Highest Median Income per Person (2015):\")\n",
    "group_comm_1_df.drop(\"group_comm\").show(truncate=False)\n",
    "\n",
    "print(\"Race Description of Crimes committed in the LA Areas with the Lowest Median Income per Person (2015):\")\n",
    "group_comm_2_df.drop(\"group_comm\").show(truncate=False)\n"
   ]
  },
  {
   "cell_type": "markdown",
   "id": "9905a0ec-8224-4bd7-a3a5-718f4aa46f92",
   "metadata": {},
   "source": [
    "#### SPARK CONFIGURATION 3"
   ]
  },
  {
   "cell_type": "code",
   "execution_count": 28,
   "id": "d64581e2-71ee-4e51-82bc-8fb6c1e9506a",
   "metadata": {
    "tags": []
   },
   "outputs": [
    {
     "name": "stdout",
     "output_type": "stream",
     "text": [
      "Starting Spark application\n"
     ]
    },
    {
     "data": {
      "text/html": [
       "<table>\n",
       "<tr><th>ID</th><th>YARN Application ID</th><th>Kind</th><th>State</th><th>Spark UI</th><th>Driver log</th><th>User</th><th>Current session?</th></tr><tr><td>4104</td><td>application_1732639283265_4044</td><td>pyspark</td><td>idle</td><td><a target=\"_blank\" href=\"http://ip-192-168-1-36.eu-central-1.compute.internal:20888/proxy/application_1732639283265_4044/\">Link</a></td><td><a target=\"_blank\" href=\"http://ip-192-168-1-16.eu-central-1.compute.internal:8042/node/containerlogs/container_1732639283265_4044_01_000002/livy\">Link</a></td><td>None</td><td>✔</td></tr></table>"
      ],
      "text/plain": [
       "<IPython.core.display.HTML object>"
      ]
     },
     "metadata": {},
     "output_type": "display_data"
    },
    {
     "data": {
      "application/vnd.jupyter.widget-view+json": {
       "model_id": "",
       "version_major": 2,
       "version_minor": 0
      },
      "text/plain": [
       "FloatProgress(value=0.0, bar_style='info', description='Progress:', layout=Layout(height='25px', width='50%'),…"
      ]
     },
     "metadata": {},
     "output_type": "display_data"
    },
    {
     "name": "stdout",
     "output_type": "stream",
     "text": [
      "SparkSession available as 'spark'.\n"
     ]
    },
    {
     "data": {
      "text/html": [
       "Current session configs: <tt>{'conf': {'spark.sql.catalog.spark_catalog.type': 'hive', 'spark.executor.instances': '2', 'spark.executor.memory': '8g', 'spark.executor.cores': '4', 'spark.driver.memory': '2g'}, 'kind': 'pyspark'}</tt><br>"
      ],
      "text/plain": [
       "<IPython.core.display.HTML object>"
      ]
     },
     "metadata": {},
     "output_type": "display_data"
    },
    {
     "data": {
      "text/html": [
       "<table>\n",
       "<tr><th>ID</th><th>YARN Application ID</th><th>Kind</th><th>State</th><th>Spark UI</th><th>Driver log</th><th>User</th><th>Current session?</th></tr><tr><td>4080</td><td>application_1732639283265_4020</td><td>pyspark</td><td>idle</td><td><a target=\"_blank\" href=\"http://ip-192-168-1-36.eu-central-1.compute.internal:20888/proxy/application_1732639283265_4020/\">Link</a></td><td><a target=\"_blank\" href=\"http://ip-192-168-1-16.eu-central-1.compute.internal:8042/node/containerlogs/container_1732639283265_4020_01_000001/livy\">Link</a></td><td>None</td><td></td></tr><tr><td>4084</td><td>application_1732639283265_4024</td><td>pyspark</td><td>idle</td><td><a target=\"_blank\" href=\"http://ip-192-168-1-36.eu-central-1.compute.internal:20888/proxy/application_1732639283265_4024/\">Link</a></td><td><a target=\"_blank\" href=\"http://ip-192-168-1-112.eu-central-1.compute.internal:8042/node/containerlogs/container_1732639283265_4024_01_000001/livy\">Link</a></td><td>None</td><td></td></tr><tr><td>4085</td><td>application_1732639283265_4025</td><td>pyspark</td><td>idle</td><td><a target=\"_blank\" href=\"http://ip-192-168-1-36.eu-central-1.compute.internal:20888/proxy/application_1732639283265_4025/\">Link</a></td><td><a target=\"_blank\" href=\"http://ip-192-168-1-227.eu-central-1.compute.internal:8042/node/containerlogs/container_1732639283265_4025_01_000002/livy\">Link</a></td><td>None</td><td></td></tr><tr><td>4086</td><td>application_1732639283265_4026</td><td>pyspark</td><td>idle</td><td><a target=\"_blank\" href=\"http://ip-192-168-1-36.eu-central-1.compute.internal:20888/proxy/application_1732639283265_4026/\">Link</a></td><td><a target=\"_blank\" href=\"http://ip-192-168-1-247.eu-central-1.compute.internal:8042/node/containerlogs/container_1732639283265_4026_01_000001/livy\">Link</a></td><td>None</td><td></td></tr><tr><td>4087</td><td>application_1732639283265_4027</td><td>pyspark</td><td>idle</td><td><a target=\"_blank\" href=\"http://ip-192-168-1-36.eu-central-1.compute.internal:20888/proxy/application_1732639283265_4027/\">Link</a></td><td><a target=\"_blank\" href=\"http://ip-192-168-1-91.eu-central-1.compute.internal:8042/node/containerlogs/container_1732639283265_4027_01_000001/livy\">Link</a></td><td>None</td><td></td></tr><tr><td>4093</td><td>application_1732639283265_4033</td><td>pyspark</td><td>idle</td><td><a target=\"_blank\" href=\"http://ip-192-168-1-36.eu-central-1.compute.internal:20888/proxy/application_1732639283265_4033/\">Link</a></td><td><a target=\"_blank\" href=\"http://ip-192-168-1-174.eu-central-1.compute.internal:8042/node/containerlogs/container_1732639283265_4033_01_000001/livy\">Link</a></td><td>None</td><td></td></tr><tr><td>4094</td><td>application_1732639283265_4034</td><td>pyspark</td><td>idle</td><td><a target=\"_blank\" href=\"http://ip-192-168-1-36.eu-central-1.compute.internal:20888/proxy/application_1732639283265_4034/\">Link</a></td><td><a target=\"_blank\" href=\"http://ip-192-168-1-166.eu-central-1.compute.internal:8042/node/containerlogs/container_1732639283265_4034_01_000002/livy\">Link</a></td><td>None</td><td></td></tr><tr><td>4096</td><td>application_1732639283265_4036</td><td>pyspark</td><td>idle</td><td><a target=\"_blank\" href=\"http://ip-192-168-1-36.eu-central-1.compute.internal:20888/proxy/application_1732639283265_4036/\">Link</a></td><td><a target=\"_blank\" href=\"http://ip-192-168-1-227.eu-central-1.compute.internal:8042/node/containerlogs/container_1732639283265_4036_01_000002/livy\">Link</a></td><td>None</td><td></td></tr><tr><td>4099</td><td>application_1732639283265_4039</td><td>pyspark</td><td>idle</td><td><a target=\"_blank\" href=\"http://ip-192-168-1-36.eu-central-1.compute.internal:20888/proxy/application_1732639283265_4039/\">Link</a></td><td><a target=\"_blank\" href=\"http://ip-192-168-1-16.eu-central-1.compute.internal:8042/node/containerlogs/container_1732639283265_4039_01_000001/livy\">Link</a></td><td>None</td><td></td></tr><tr><td>4103</td><td>application_1732639283265_4043</td><td>pyspark</td><td>busy</td><td><a target=\"_blank\" href=\"http://ip-192-168-1-36.eu-central-1.compute.internal:20888/proxy/application_1732639283265_4043/\">Link</a></td><td><a target=\"_blank\" href=\"http://ip-192-168-1-233.eu-central-1.compute.internal:8042/node/containerlogs/container_1732639283265_4043_01_000001/livy\">Link</a></td><td>None</td><td></td></tr><tr><td>4104</td><td>application_1732639283265_4044</td><td>pyspark</td><td>idle</td><td><a target=\"_blank\" href=\"http://ip-192-168-1-36.eu-central-1.compute.internal:20888/proxy/application_1732639283265_4044/\">Link</a></td><td><a target=\"_blank\" href=\"http://ip-192-168-1-16.eu-central-1.compute.internal:8042/node/containerlogs/container_1732639283265_4044_01_000002/livy\">Link</a></td><td>None</td><td>✔</td></tr></table>"
      ],
      "text/plain": [
       "<IPython.core.display.HTML object>"
      ]
     },
     "metadata": {},
     "output_type": "display_data"
    }
   ],
   "source": [
    "%%configure -f\n",
    "{\n",
    "    \"conf\": {\n",
    "        \"spark.executor.instances\": \"2\",\n",
    "        \"spark.executor.memory\": \"8g\",\n",
    "        \"spark.executor.cores\": \"4\",\n",
    "        \"spark.driver.memory\": \"2g\"\n",
    "    }\n",
    "}"
   ]
  },
  {
   "cell_type": "code",
   "execution_count": 29,
   "id": "1bd655bd-0b48-4c0c-bccd-de3e948939c3",
   "metadata": {
    "tags": []
   },
   "outputs": [
    {
     "data": {
      "application/vnd.jupyter.widget-view+json": {
       "model_id": "",
       "version_major": 2,
       "version_minor": 0
      },
      "text/plain": [
       "FloatProgress(value=0.0, bar_style='info', description='Progress:', layout=Layout(height='25px', width='50%'),…"
      ]
     },
     "metadata": {},
     "output_type": "display_data"
    },
    {
     "name": "stdout",
     "output_type": "stream",
     "text": [
      "Executor Instances: 2\n",
      "Executor Memory: 8g\n",
      "Executor Cores: 4"
     ]
    }
   ],
   "source": [
    "# Access configuration\n",
    "conf = spark.sparkContext.getConf()\n",
    "\n",
    "# Print relevant executor settings\n",
    "print(\"Executor Instances:\", conf.get(\"spark.executor.instances\"))\n",
    "print(\"Executor Memory:\", conf.get(\"spark.executor.memory\"))\n",
    "print(\"Executor Cores:\", conf.get(\"spark.executor.cores\"))"
   ]
  },
  {
   "cell_type": "markdown",
   "id": "0e7eb92a-b7d3-4135-97a7-da2c3c373b11",
   "metadata": {},
   "source": [
    "## QUERY 4: CRIME & RACE DESCRIPTION FOR 2015 - CONFIG 3"
   ]
  },
  {
   "cell_type": "code",
   "execution_count": 31,
   "id": "221ca3bb-60b4-4380-aec1-abc721923a5d",
   "metadata": {
    "tags": []
   },
   "outputs": [
    {
     "data": {
      "application/vnd.jupyter.widget-view+json": {
       "model_id": "",
       "version_major": 2,
       "version_minor": 0
      },
      "text/plain": [
       "FloatProgress(value=0.0, bar_style='info', description='Progress:', layout=Layout(height='25px', width='50%'),…"
      ]
     },
     "metadata": {},
     "output_type": "display_data"
    },
    {
     "name": "stdout",
     "output_type": "stream",
     "text": [
      "Execution time: 5.196 seconds\n",
      "QUERY 4 CONFIG_3 (4core/8 GB)\n",
      "Race Description of Crimes committed in the LA Areas with the Highest Median Income per Person (2015):\n",
      "+-----------------+-----+\n",
      "|vict_descent_full|count|\n",
      "+-----------------+-----+\n",
      "+-----------------+-----+\n",
      "\n",
      "Race Description of Crimes committed in the LA Areas with the Lowest Median Income per Person (2015):\n",
      "+----------------------+-----+\n",
      "|vict_descent_full     |count|\n",
      "+----------------------+-----+\n",
      "|Hispanic/Latin/Mexican|2878 |\n",
      "|Unknown               |254  |\n",
      "|White                 |212  |\n",
      "|Black                 |123  |\n",
      "|Other                 |70   |\n",
      "|Other Asian           |32   |\n",
      "|Chinese               |3    |\n",
      "|Filipino              |2    |\n",
      "|Pacific Islander      |2    |\n",
      "+----------------------+-----+"
     ]
    }
   ],
   "source": [
    "from pyspark.sql import SparkSession\n",
    "from pyspark.sql.functions import col, expr, when, year, to_timestamp\n",
    "from pyspark.sql import functions as F\n",
    "import time\n",
    "\n",
    "spark = SparkSession.builder \\\n",
    "    .appName(\"Crime Data Analysis with Race and Region\") \\\n",
    "    .getOrCreate()\n",
    "\n",
    "# Start timing\n",
    "start_time = time.time()\n",
    "\n",
    "# Load Crime Data\n",
    "crime_data_path = \"s3://initial-notebook-data-bucket-dblab-905418150721/CrimeData/Crime_Data_from_2010_to_2019_20241101.csv\"\n",
    "crime_df = spark.read.csv(crime_data_path, header=True, inferSchema=True)\n",
    "\n",
    "crime_df = crime_df.select(\n",
    "    col(\"LAT\").alias(\"latitude\"),\n",
    "    col(\"LON\").alias(\"longitude\"),\n",
    "    col(\"Vict Descent\").alias(\"vict_descent\"),\n",
    "    col(\"DATE OCC\").alias(\"date_occ\")  # Επιλογή της στήλης DATE OCC για φιλτράρισμα\n",
    ")\n",
    "\n",
    "# Convert DATE OCC to Timestamp type\n",
    "crime_df = crime_df.withColumn(\"date_occ\", to_timestamp(col(\"date_occ\"), \"MM/dd/yyyy hh:mm:ss a\"))\n",
    "\n",
    "# Filter for 2015\n",
    "crime_df = crime_df.filter(year(col(\"date_occ\")) == 2015)\n",
    "\n",
    "\n",
    "crime_df = crime_df.withColumn(\"geom\", expr(\"ST_Point(longitude, latitude)\"))\n",
    "\n",
    "# Vict Descent CSV load\n",
    "csv_path = \"s3://initial-notebook-data-bucket-dblab-905418150721/RE_codes.csv\"\n",
    "vict_desc_df = spark.read.csv(csv_path, header=True, inferSchema=True)\n",
    "\n",
    "vict_desc_df = vict_desc_df.select(\n",
    "    col(\"Vict Descent\").alias(\"vict_descent_code\"),\n",
    "    col(\"Vict Descent Full\").alias(\"vict_descent_full\")\n",
    ")\n",
    "\n",
    "# Load GeoJSON and group for Areas\n",
    "geojson_path = \"s3://initial-notebook-data-bucket-dblab-905418150721/2010_Census_Blocks.geojson\"\n",
    "blocks_df = spark.read.format(\"geojson\") \\\n",
    "    .option(\"multiLine\", \"true\").load(geojson_path) \\\n",
    "    .selectExpr(\"explode(features) as features\") \\\n",
    "    .select(\"features.*\")\n",
    "\n",
    "flattened_df = blocks_df.select(\n",
    "    [col(f\"properties.{col_name}\").alias(col_name) for col_name in blocks_df.schema[\"properties\"].dataType.fieldNames()] + [\"geometry\"]\n",
    ").drop(\"properties\").drop(\"type\")\n",
    "\n",
    "# Group (group_comm_1 και group_comm_2)\n",
    "group_comm_1_areas = [\"Malibu\", \"Manhattan Beach\", \"Hermosa Beach\"]\n",
    "group_comm_2_areas = [\"East Los Angeles\", \"Lynwood\", \"Boyle Heights\"]\n",
    "\n",
    "grouped_df = flattened_df.withColumn(\n",
    "    \"group_comm\",\n",
    "    when(col(\"COMM\").isin(group_comm_1_areas), \"group_comm_1\")\n",
    "    .when(col(\"COMM\").isin(group_comm_2_areas), \"group_comm_2\")\n",
    "    .otherwise(\"other\")\n",
    ")\n",
    "\n",
    "#  group_comm and geodata Join\n",
    "grouped_blocks_df = grouped_df.filter(col(\"group_comm\").isin(\"group_comm_1\", \"group_comm_2\")) \\\n",
    "    .groupBy(\"group_comm\") \\\n",
    "    .agg(\n",
    "        expr(\"ST_Union_Aggr(geometry)\").alias(\"unified_geometry\")\n",
    "    )\n",
    "\n",
    "# join  crime_df and grouped_blocks_df\n",
    "join_condition = expr(\"ST_Within(geom, unified_geometry)\")\n",
    "joined_df = crime_df.join(grouped_blocks_df, join_condition, \"inner\")\n",
    "\n",
    "# Join RE_codes for \"Vict Descent\"\n",
    "final_df = joined_df.join(vict_desc_df, joined_df.vict_descent == vict_desc_df.vict_descent_code, \"inner\")\n",
    "\n",
    "# Group and count group_comm και Vict Descent\n",
    "crime_counts = final_df.groupBy(\"group_comm\", \"vict_descent_full\") \\\n",
    "    .count() \\\n",
    "    .orderBy(\"count\", ascending=False)\n",
    "\n",
    "# DataFrames for every group_comm\n",
    "group_comm_1_df = crime_counts.filter(col(\"group_comm\") == \"group_comm_1\")\n",
    "group_comm_2_df = crime_counts.filter(col(\"group_comm\") == \"group_comm_2\")\n",
    "\n",
    "# End timing\n",
    "end_time = time.time()\n",
    "print(f\"Execution time: {round(end_time - start_time, 3)} seconds\")\n",
    "\n",
    "# Prints\n",
    "print(\"QUERY 4 CONFIG_3 (4core/8 GB)\")\n",
    "\n",
    "print(\"Race Description of Crimes committed in the LA Areas with the Highest Median Income per Person (2015):\")\n",
    "group_comm_1_df.drop(\"group_comm\").show(truncate=False)\n",
    "\n",
    "print(\"Race Description of Crimes committed in the LA Areas with the Lowest Median Income per Person (2015):\")\n",
    "group_comm_2_df.drop(\"group_comm\").show(truncate=False)\n"
   ]
  }
 ],
 "metadata": {
  "kernelspec": {
   "display_name": "Sparkmagic (PySpark)",
   "language": "python",
   "name": "pysparkkernel"
  },
  "language_info": {
   "codemirror_mode": {
    "name": "python",
    "version": 3
   },
   "file_extension": ".py",
   "mimetype": "text/x-python",
   "name": "pyspark",
   "pygments_lexer": "python3"
  }
 },
 "nbformat": 4,
 "nbformat_minor": 5
}
